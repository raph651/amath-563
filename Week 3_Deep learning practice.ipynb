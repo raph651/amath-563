{
 "cells": [
  {
   "cell_type": "markdown",
   "metadata": {},
   "source": [
    "## Current week: The Data Driven Deep Leanring Process\n",
    "\n",
    "### Exponentially Moving Average (EMA)\n",
    "\n",
    "$$ v_k = \\gamma v_{k-1} + (1-\\gamma)\\theta_k, \\; v_0=0$$\n",
    "\n",
    "Iterate through steps:\n",
    "\n",
    "\\begin{align*}\n",
    "v_1&=(1-\\gamma)\\theta_1\\\\\n",
    "v_2&=\\gamma(1-\\gamma)\\theta_1 +(1-\\gamma)\\theta_2\\\\\n",
    "v_3&=\\gamma^2(1-\\gamma)\\theta_1+\\gamma(1-\\gamma)\\theta_2+(1-\\gamma)\\theta_3\n",
    "\n",
    "\\end{align*}\n",
    "\n",
    "Applying it to **gradient** values:\n",
    "\n",
    "$$ \\hat{v}_k =\\gamma \\hat{v}_{k-1} +(1-\\gamma)\\nabla_{w_k}$$\n",
    "$$w_{k+1}=w_k-\\alpha\\hat{v}_k$$\n",
    "\n",
    "\n",
    "#### RMS Prop\n",
    "\n",
    "Let's apply EMA to **square gradient** values:\n",
    "\n",
    "$$ S_k=\\gamma S_{k-1}+(1-\\gamma)(\\nabla_{w_k})^2$$\n",
    "$$w_{k+1}=w_k-\\frac{\\alpha}{\\sqrt{S_k}+\\epsilon}\\nabla_{w_k}$$\n",
    "\n",
    "#### Biases in EMA Correction\n",
    "\n",
    "Correcton: $\\displaystyle \\tilde{v}_k = \\frac{v_k}{1-\\gamma^{k}}$\n",
    "\n",
    "#### Adam\n",
    "\n",
    "What if we combine Momentum with RMSProp\n",
    "\n",
    "$$\\hat{v}_k = \\gamma_1 \\hat{v}_{k-1} +(1-\\gamma_1)\\nabla_{wk}$$\n",
    "$$S_k =\\gamma_2 S_{k-1} +(1-\\gamma_2)(\\nabla_{wk})^2$$\n",
    "\n",
    "And do bias correction\n",
    "\n",
    "$$\\hat{v}_k^c = \\frac{\\hat{v}_k}{1-\\gamma_1^k}$$\n",
    "\n",
    "$$ w_{k+1}=w_k-\\frac{\\alpha}{\\sqrt{S_k^c}+\\epsilon}\\hat{v}_k^c$$\n",
    "\n",
    "$$S_k^c = \\frac{S_k}{1-\\gamma_2^k} $$\n",
    "\n",
    "hyperparameters: $\\alpha$, $\\gamma_1$, $\\gamma_2$, $\\epsilon$"
   ]
  },
  {
   "cell_type": "markdown",
   "metadata": {},
   "source": [
    "### Cross-Validation \n",
    "\n",
    "Train/Validation/Test set division:  \n",
    "\n",
    "if total 10k, 8k/1k/1k\n",
    "\n",
    "if total 1M, 960k/20k/20k"
   ]
  },
  {
   "cell_type": "markdown",
   "metadata": {},
   "source": []
  },
  {
   "cell_type": "markdown",
   "metadata": {},
   "source": []
  },
  {
   "cell_type": "markdown",
   "metadata": {},
   "source": []
  },
  {
   "cell_type": "markdown",
   "metadata": {},
   "source": []
  },
  {
   "cell_type": "markdown",
   "metadata": {},
   "source": []
  }
 ],
 "metadata": {
  "language_info": {
   "name": "plaintext"
  },
  "orig_nbformat": 4
 },
 "nbformat": 4,
 "nbformat_minor": 2
}

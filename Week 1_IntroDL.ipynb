{
 "cells": [
  {
   "cell_type": "markdown",
   "metadata": {},
   "source": [
    "## Properties of Brain Networks and Learninng\n",
    "\n",
    "1. Neurons: simple comptational units\n",
    "2. Well connected\n",
    "3. Parallelism and Recurrence\n",
    "4. Hierarchically structured\n",
    "5. Learning\n",
    " 1. Features\n",
    " 2. Changing connections\n",
    "\n",
    "### 1. Neurons: simple conputational units\n",
    "Firing rate -> $\\displaystyle \\frac{df}{dt}=-f+tanh(x(t))$\n",
    "\n",
    "<img src=\"images/2022-03-29-15-17-28.png\" width =\"500\" height=\"350\"/>\n",
    "\n",
    "### Perceptron\n",
    "$$f(x)=\\begin{cases}\n",
    "1 & \\text{if } w \\cdot x+b >0 \\\\\n",
    "0 & \\text{otherwise}\n",
    "\\end{cases}$$\n",
    "\n",
    "\n",
    "Network trains its weights based on $\\textbf{labeled training}$ data, i.e. optimizes $\\textbf{cost}$ function between expected outputs and actual outputs\n",
    "\n",
    "### 2. Well Connected \n",
    "Human Brain - $10^{11}$ neurons, $10^{14}$ connections (synapses)\n",
    "\n",
    "Connectome - connection map (eg. diagonal connection - locally connected)\n",
    "\n",
    "### 3. Parallelism (flow structure)\n",
    "Computations done on various scales\n",
    "\n",
    "Many recurrences\n",
    "\n",
    "### 4. Hierarchical Layered Structure \n",
    "- Layers \n",
    "- Columns \n",
    "- Defined Flow\n",
    "- Functional Organization\n",
    "- Feedback\n",
    "\n",
    "**Deep Neural Networks - Forward Propagation**:\n",
    "- Multiple layers of **simple units** \n",
    "- Each unit computes a **weighted sum** of its inputs\n",
    "- Weighted Sum is passed through a **nonlinear** function\n",
    "- the learningg algorithm changes the **weights**\n",
    "\n",
    "### Convolutional Nets (CNNS)\n",
    "Examine different patchs of inputs, and return to hidden layers.\n",
    "\n",
    "Example: LeNet 5 (Handwriting recognition)\n",
    "\n",
    "<img src=\"images/1_2.png\" width =\"500\" height=\"350\"/>\n",
    "\n",
    "### 5. Learning\n",
    "#### 5.1 Feature Extraction\n",
    "- Classification/Recognition\n",
    "- Regression Direct\n",
    "- Regression Indirect\n",
    "#### 5.2 Synaptic Plasticity\n",
    "- Adaptive connections\n",
    "- The \"strength\" of synapses changes\n",
    "\n",
    "**Supervised Learning, Back Propagation, Unsupervised Learning, Reinforcement Learning**\n",
    "\n"
   ]
  },
  {
   "cell_type": "markdown",
   "metadata": {},
   "source": []
  },
  {
   "cell_type": "markdown",
   "metadata": {},
   "source": []
  },
  {
   "cell_type": "markdown",
   "metadata": {},
   "source": []
  },
  {
   "cell_type": "markdown",
   "metadata": {},
   "source": []
  }
 ],
 "metadata": {
  "language_info": {
   "name": "plaintext"
  },
  "orig_nbformat": 4
 },
 "nbformat": 4,
 "nbformat_minor": 2
}

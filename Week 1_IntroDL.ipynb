{
 "cells": [
  {
   "cell_type": "markdown",
   "metadata": {},
   "source": [
    "## Properties of Brain Networks and Learninng\n",
    "\n",
    "1. Neurons: simple comptational units\n",
    "2. Well connected\n",
    "3. Parallelism and Recurrence\n",
    "4. Hierarchically structured\n",
    "5. Learning\n",
    " 1. Features\n",
    " 2. Changing connections\n",
    "\n",
    "### Neurons: simple conputational units\n",
    "Firing rate -> $\\displaystyle \\frac{df}{dt}=-f+tanh(x(t))$\n",
    "\n",
    "<img src=\"2022-03-29-15-17-28.png\" width =\"500\" height=\"350\"/>"
   ]
  },
  {
   "cell_type": "markdown",
   "metadata": {},
   "source": []
  },
  {
   "cell_type": "markdown",
   "metadata": {},
   "source": []
  },
  {
   "cell_type": "markdown",
   "metadata": {},
   "source": []
  }
 ],
 "metadata": {
  "language_info": {
   "name": "plaintext"
  },
  "orig_nbformat": 4
 },
 "nbformat": 4,
 "nbformat_minor": 2
}

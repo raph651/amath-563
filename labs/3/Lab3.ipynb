{
 "cells": [
  {
   "cell_type": "markdown",
   "metadata": {
    "id": "7KixHYy9Y5Tu"
   },
   "source": [
    "# Lab 3: Pytorch Operators and Optimizers"
   ]
  },
  {
   "cell_type": "markdown",
   "metadata": {
    "id": "XaRkxg62ZH3e"
   },
   "source": [
    "## Assignment: Fashion MNIST Classification\n",
    "\n",
    "In Lab3, we will use the Fashion MNIST dataset (see video recording for explanation of Fashion MNIST dataset). Similar to previous Lab2, you should design a fully-connected network as well as the pytorch based training/validation/testing process on the classification task. But differently, we will dive into the optimizers, operations or modules that we have learned in the lectures, and to see how they can benefit the capacity of your model.\n",
    "\n",
    "\n",
    "\n",
    "1. Try different optimizers including RMSProp, Adam and SGD(You can find the corresponding functions in the torch.optim library). Log your training loss and test accuracy. Comparing these optimizers, how do they work? Which one is the best for this task and try to explain it.\n",
    "\n",
    "2. Analyze the overfitting/underfitting situation of your model. Try to use regularization like L2/L1, Dropout layers, etc. to improve your performance. How does your regularization work? And how do you balance your regularization and the loss optimization?\n",
    "\n",
    "3. Try different initialization ways like random normal, Xavier and He (Kaiming) etc. How can these initialization affect your training process and performance? \n",
    "\n",
    "4. Try normalization like batch normalization or layer normalization, whether these normalization methods can help your training or improve your performance?\n",
    "\n",
    "5. To further improve the performance, you can also choose your own hyperparameters, including:\n",
    "- Number of layers\n",
    "- Number of neurons in each layer\n",
    "- Learning rate\n",
    "- Number of training epochs\n",
    "\n",
    "For the comparing of different optimizers, regularization, initialization, normalization and hyper-parameters, you are recommended to form a table of the comparison results.  Report your loss as ”loss curve” and accuracy for different settings and draw conclusions. **You can split a small validation set from the training set to help you analyze the effectiveness of different modules better.**\n",
    "\n",
    "For the convenient implementation of different optimizers, regularization, initialization and normalization, you can always check the tutorial of pytorch library (https://pytorch.org/tutorials/) for some useful funuctions and examples."
   ]
  },
  {
   "cell_type": "code",
   "execution_count": 9,
   "metadata": {
    "id": "LHdZ46lmW8ZH"
   },
   "outputs": [],
   "source": [
    "import torch\n",
    "import torchvision\n",
    "import numpy as np\n",
    "import torch.nn.functional as F\n",
    "\n",
    "from math import floor, ceil\n",
    "from torch import nn\n",
    "\n",
    "\n",
    "train_batch_size = 64 # Define train batch size\n",
    "test_batch_size  = 64*4   # Define test batch size (can be larger than train batch size)\n",
    "\n",
    "\n",
    "# Use the following code to load and normalize the dataset\n",
    "train_set = torchvision.datasets.FashionMNIST('./files/', train=True, download=True,\n",
    "                             transform=torchvision.transforms.Compose([\n",
    "                               torchvision.transforms.ToTensor(),\n",
    "                               torchvision.transforms.Normalize(\n",
    "                                 (0.1307,), (0.3081,))\n",
    "                             ]))\n",
    "\n",
    "test_loader = torch.utils.data.DataLoader(\n",
    "  torchvision.datasets.FashionMNIST('./files/', train=False, download=True,\n",
    "                             transform=torchvision.transforms.Compose([\n",
    "                               torchvision.transforms.ToTensor(),\n",
    "                               torchvision.transforms.Normalize(\n",
    "                                 (0.1307,), (0.3081,))\n",
    "                             ])),\n",
    "  batch_size=test_batch_size, shuffle=True)\n",
    "\n",
    "train_set, val_set= torch.utils.data.random_split(train_set, [floor(len(train_set)*0.8),floor(len(train_set)*0.2)])\n",
    "\n",
    "train_loader = torch.utils.data.DataLoader(train_set, batch_size=train_batch_size, shuffle=True)\n",
    "\n",
    "val_loader = torch.utils.data.DataLoader(val_set, batch_size=train_batch_size, shuffle=True)"
   ]
  },
  {
   "cell_type": "code",
   "execution_count": 11,
   "metadata": {
    "id": "Nt6scrFsYNse"
   },
   "outputs": [],
   "source": [
    "#Define your network:\n",
    "class Network(nn.Module):\n",
    "  def __init__(self, input_dim): #Can provide additional inputs for initialization\n",
    "    #Define the network layer(s) and activation function(s)\n",
    "    super().__init__()\n",
    "    self.layer1 = nn.Linear(input_dim, 200)\n",
    "    self.layer2 = nn.Linear(200, 150)\n",
    "    self.layer3 = nn.Linear(150, 100)\n",
    "    self.layer4 = nn.Linear(100, 50)\n",
    "    self.layer5 = nn.Linear(50, 10)\n",
    "\n",
    "  def forward(self, input):\n",
    "    #How does your model process the input?\n",
    "    output = F.relu(self.layer1(input))\n",
    "    output = F.relu(self.layer2(output))\n",
    "    output = F.relu(self.layer3(output))\n",
    "    output = F.relu(self.layer4(output))\n",
    "    output = F.softmax(self.layer5(output), dim=1)\n",
    "    \n",
    "    return output"
   ]
  },
  {
   "cell_type": "code",
   "execution_count": 33,
   "metadata": {
    "id": "IQwTLOTiXnso",
    "scrolled": false
   },
   "outputs": [
    {
     "name": "stderr",
     "output_type": "stream",
     "text": [
      "\r",
      "  0%|                                                                                            | 0/15 [00:00<?, ?it/s]"
     ]
    },
    {
     "name": "stdout",
     "output_type": "stream",
     "text": [
      "Train Epoch: 1 [0/48000 (0%)]\tLoss: 2.302285\n",
      "Train Epoch: 1 [3200/48000 (7%)]\tLoss: 2.250360\n",
      "Train Epoch: 1 [6400/48000 (13%)]\tLoss: 2.065179\n",
      "Train Epoch: 1 [9600/48000 (20%)]\tLoss: 1.847902\n",
      "Train Epoch: 1 [12800/48000 (27%)]\tLoss: 1.928928\n",
      "Train Epoch: 1 [16000/48000 (33%)]\tLoss: 1.770587\n",
      "Train Epoch: 1 [19200/48000 (40%)]\tLoss: 1.779136\n",
      "Train Epoch: 1 [22400/48000 (47%)]\tLoss: 1.662366\n",
      "Train Epoch: 1 [25600/48000 (53%)]\tLoss: 1.744236\n",
      "Train Epoch: 1 [28800/48000 (60%)]\tLoss: 1.727856\n",
      "Train Epoch: 1 [32000/48000 (67%)]\tLoss: 1.661897\n",
      "Train Epoch: 1 [35200/48000 (73%)]\tLoss: 1.686426\n",
      "Train Epoch: 1 [38400/48000 (80%)]\tLoss: 1.747581\n",
      "Train Epoch: 1 [41600/48000 (87%)]\tLoss: 1.683586\n",
      "Train Epoch: 1 [44800/48000 (93%)]\tLoss: 1.761684\n"
     ]
    },
    {
     "name": "stderr",
     "output_type": "stream",
     "text": [
      "\r",
      "  7%|█████▌                                                                              | 1/15 [00:15<03:43, 16.00s/it]"
     ]
    },
    {
     "name": "stdout",
     "output_type": "stream",
     "text": [
      "\n",
      "Validation set: number of correct labels: 9428/12000 accuracy: (79%)\n",
      "\n",
      "Train Epoch: 2 [0/48000 (0%)]\tLoss: 1.678796\n",
      "Train Epoch: 2 [3200/48000 (7%)]\tLoss: 1.717904\n",
      "Train Epoch: 2 [6400/48000 (13%)]\tLoss: 1.712497\n",
      "Train Epoch: 2 [9600/48000 (20%)]\tLoss: 1.668639\n",
      "Train Epoch: 2 [12800/48000 (27%)]\tLoss: 1.746053\n",
      "Train Epoch: 2 [16000/48000 (33%)]\tLoss: 1.647377\n",
      "Train Epoch: 2 [19200/48000 (40%)]\tLoss: 1.690335\n",
      "Train Epoch: 2 [22400/48000 (47%)]\tLoss: 1.637293\n",
      "Train Epoch: 2 [25600/48000 (53%)]\tLoss: 1.705899\n",
      "Train Epoch: 2 [28800/48000 (60%)]\tLoss: 1.684567\n",
      "Train Epoch: 2 [32000/48000 (67%)]\tLoss: 1.669713\n",
      "Train Epoch: 2 [35200/48000 (73%)]\tLoss: 1.636546\n",
      "Train Epoch: 2 [38400/48000 (80%)]\tLoss: 1.702819\n",
      "Train Epoch: 2 [41600/48000 (87%)]\tLoss: 1.610660\n",
      "Train Epoch: 2 [44800/48000 (93%)]\tLoss: 1.700520\n"
     ]
    },
    {
     "name": "stderr",
     "output_type": "stream",
     "text": [
      "\r",
      " 13%|███████████▏                                                                        | 2/15 [00:30<03:16, 15.13s/it]"
     ]
    },
    {
     "name": "stdout",
     "output_type": "stream",
     "text": [
      "\n",
      "Validation set: number of correct labels: 9844/12000 accuracy: (82%)\n",
      "\n",
      "Train Epoch: 3 [0/48000 (0%)]\tLoss: 1.682849\n",
      "Train Epoch: 3 [3200/48000 (7%)]\tLoss: 1.628037\n",
      "Train Epoch: 3 [6400/48000 (13%)]\tLoss: 1.617155\n",
      "Train Epoch: 3 [9600/48000 (20%)]\tLoss: 1.612758\n",
      "Train Epoch: 3 [12800/48000 (27%)]\tLoss: 1.643071\n",
      "Train Epoch: 3 [16000/48000 (33%)]\tLoss: 1.603024\n",
      "Train Epoch: 3 [19200/48000 (40%)]\tLoss: 1.654539\n",
      "Train Epoch: 3 [22400/48000 (47%)]\tLoss: 1.619449\n",
      "Train Epoch: 3 [25600/48000 (53%)]\tLoss: 1.651243\n",
      "Train Epoch: 3 [28800/48000 (60%)]\tLoss: 1.615498\n",
      "Train Epoch: 3 [32000/48000 (67%)]\tLoss: 1.655477\n",
      "Train Epoch: 3 [35200/48000 (73%)]\tLoss: 1.614423\n",
      "Train Epoch: 3 [38400/48000 (80%)]\tLoss: 1.642454\n",
      "Train Epoch: 3 [41600/48000 (87%)]\tLoss: 1.688043\n",
      "Train Epoch: 3 [44800/48000 (93%)]\tLoss: 1.584494\n"
     ]
    },
    {
     "name": "stderr",
     "output_type": "stream",
     "text": [
      "\r",
      " 20%|████████████████▊                                                                   | 3/15 [00:46<03:05, 15.45s/it]"
     ]
    },
    {
     "name": "stdout",
     "output_type": "stream",
     "text": [
      "\n",
      "Validation set: number of correct labels: 10096/12000 accuracy: (84%)\n",
      "\n",
      "Train Epoch: 4 [0/48000 (0%)]\tLoss: 1.670857\n",
      "Train Epoch: 4 [3200/48000 (7%)]\tLoss: 1.645074\n",
      "Train Epoch: 4 [6400/48000 (13%)]\tLoss: 1.647609\n",
      "Train Epoch: 4 [9600/48000 (20%)]\tLoss: 1.651195\n",
      "Train Epoch: 4 [12800/48000 (27%)]\tLoss: 1.641758\n",
      "Train Epoch: 4 [16000/48000 (33%)]\tLoss: 1.634792\n",
      "Train Epoch: 4 [19200/48000 (40%)]\tLoss: 1.618974\n",
      "Train Epoch: 4 [22400/48000 (47%)]\tLoss: 1.639472\n",
      "Train Epoch: 4 [25600/48000 (53%)]\tLoss: 1.647007\n",
      "Train Epoch: 4 [28800/48000 (60%)]\tLoss: 1.660118\n",
      "Train Epoch: 4 [32000/48000 (67%)]\tLoss: 1.689470\n",
      "Train Epoch: 4 [35200/48000 (73%)]\tLoss: 1.599731\n",
      "Train Epoch: 4 [38400/48000 (80%)]\tLoss: 1.634500\n",
      "Train Epoch: 4 [41600/48000 (87%)]\tLoss: 1.645910\n",
      "Train Epoch: 4 [44800/48000 (93%)]\tLoss: 1.589939\n"
     ]
    },
    {
     "name": "stderr",
     "output_type": "stream",
     "text": [
      "\r",
      " 27%|██████████████████████▍                                                             | 4/15 [01:05<03:04, 16.74s/it]"
     ]
    },
    {
     "name": "stdout",
     "output_type": "stream",
     "text": [
      "\n",
      "Validation set: number of correct labels: 10109/12000 accuracy: (84%)\n",
      "\n",
      "Train Epoch: 5 [0/48000 (0%)]\tLoss: 1.566229\n",
      "Train Epoch: 5 [3200/48000 (7%)]\tLoss: 1.666000\n",
      "Train Epoch: 5 [6400/48000 (13%)]\tLoss: 1.597688\n",
      "Train Epoch: 5 [9600/48000 (20%)]\tLoss: 1.556719\n",
      "Train Epoch: 5 [12800/48000 (27%)]\tLoss: 1.687894\n",
      "Train Epoch: 5 [16000/48000 (33%)]\tLoss: 1.615072\n",
      "Train Epoch: 5 [19200/48000 (40%)]\tLoss: 1.682989\n",
      "Train Epoch: 5 [22400/48000 (47%)]\tLoss: 1.581124\n",
      "Train Epoch: 5 [25600/48000 (53%)]\tLoss: 1.561655\n",
      "Train Epoch: 5 [28800/48000 (60%)]\tLoss: 1.632358\n",
      "Train Epoch: 5 [32000/48000 (67%)]\tLoss: 1.633619\n",
      "Train Epoch: 5 [35200/48000 (73%)]\tLoss: 1.641202\n",
      "Train Epoch: 5 [38400/48000 (80%)]\tLoss: 1.528536\n",
      "Train Epoch: 5 [41600/48000 (87%)]\tLoss: 1.645190\n",
      "Train Epoch: 5 [44800/48000 (93%)]\tLoss: 1.738469\n"
     ]
    },
    {
     "name": "stderr",
     "output_type": "stream",
     "text": [
      "\r",
      " 33%|████████████████████████████                                                        | 5/15 [01:27<03:08, 18.83s/it]"
     ]
    },
    {
     "name": "stdout",
     "output_type": "stream",
     "text": [
      "\n",
      "Validation set: number of correct labels: 10225/12000 accuracy: (85%)\n",
      "\n",
      "Train Epoch: 6 [0/48000 (0%)]\tLoss: 1.616569\n",
      "Train Epoch: 6 [3200/48000 (7%)]\tLoss: 1.678736\n",
      "Train Epoch: 6 [6400/48000 (13%)]\tLoss: 1.593464\n",
      "Train Epoch: 6 [9600/48000 (20%)]\tLoss: 1.591308\n",
      "Train Epoch: 6 [12800/48000 (27%)]\tLoss: 1.683738\n",
      "Train Epoch: 6 [16000/48000 (33%)]\tLoss: 1.587989\n",
      "Train Epoch: 6 [19200/48000 (40%)]\tLoss: 1.605929\n",
      "Train Epoch: 6 [22400/48000 (47%)]\tLoss: 1.631199\n",
      "Train Epoch: 6 [25600/48000 (53%)]\tLoss: 1.625830\n",
      "Train Epoch: 6 [28800/48000 (60%)]\tLoss: 1.640103\n",
      "Train Epoch: 6 [32000/48000 (67%)]\tLoss: 1.593745\n",
      "Train Epoch: 6 [35200/48000 (73%)]\tLoss: 1.647681\n",
      "Train Epoch: 6 [38400/48000 (80%)]\tLoss: 1.647159\n",
      "Train Epoch: 6 [41600/48000 (87%)]\tLoss: 1.642086\n",
      "Train Epoch: 6 [44800/48000 (93%)]\tLoss: 1.637816\n"
     ]
    },
    {
     "name": "stderr",
     "output_type": "stream",
     "text": [
      "\r",
      " 40%|█████████████████████████████████▌                                                  | 6/15 [01:47<02:51, 19.06s/it]"
     ]
    },
    {
     "name": "stdout",
     "output_type": "stream",
     "text": [
      "\n",
      "Validation set: number of correct labels: 10224/12000 accuracy: (85%)\n",
      "\n",
      "Train Epoch: 7 [0/48000 (0%)]\tLoss: 1.584284\n",
      "Train Epoch: 7 [3200/48000 (7%)]\tLoss: 1.578416\n",
      "Train Epoch: 7 [6400/48000 (13%)]\tLoss: 1.649399\n",
      "Train Epoch: 7 [9600/48000 (20%)]\tLoss: 1.704888\n",
      "Train Epoch: 7 [12800/48000 (27%)]\tLoss: 1.639526\n",
      "Train Epoch: 7 [16000/48000 (33%)]\tLoss: 1.607110\n",
      "Train Epoch: 7 [19200/48000 (40%)]\tLoss: 1.663177\n",
      "Train Epoch: 7 [22400/48000 (47%)]\tLoss: 1.701042\n",
      "Train Epoch: 7 [25600/48000 (53%)]\tLoss: 1.595239\n",
      "Train Epoch: 7 [28800/48000 (60%)]\tLoss: 1.695175\n",
      "Train Epoch: 7 [32000/48000 (67%)]\tLoss: 1.584384\n",
      "Train Epoch: 7 [35200/48000 (73%)]\tLoss: 1.642703\n",
      "Train Epoch: 7 [38400/48000 (80%)]\tLoss: 1.711827\n",
      "Train Epoch: 7 [41600/48000 (87%)]\tLoss: 1.634011\n",
      "Train Epoch: 7 [44800/48000 (93%)]\tLoss: 1.612663\n"
     ]
    },
    {
     "name": "stderr",
     "output_type": "stream",
     "text": [
      "\r",
      " 47%|███████████████████████████████████████▏                                            | 7/15 [02:05<02:29, 18.72s/it]"
     ]
    },
    {
     "name": "stdout",
     "output_type": "stream",
     "text": [
      "\n",
      "Validation set: number of correct labels: 10232/12000 accuracy: (85%)\n",
      "\n",
      "Train Epoch: 8 [0/48000 (0%)]\tLoss: 1.576400\n",
      "Train Epoch: 8 [3200/48000 (7%)]\tLoss: 1.544243\n",
      "Train Epoch: 8 [6400/48000 (13%)]\tLoss: 1.607529\n",
      "Train Epoch: 8 [9600/48000 (20%)]\tLoss: 1.684294\n",
      "Train Epoch: 8 [12800/48000 (27%)]\tLoss: 1.563392\n",
      "Train Epoch: 8 [16000/48000 (33%)]\tLoss: 1.569341\n",
      "Train Epoch: 8 [19200/48000 (40%)]\tLoss: 1.626782\n",
      "Train Epoch: 8 [22400/48000 (47%)]\tLoss: 1.557096\n",
      "Train Epoch: 8 [25600/48000 (53%)]\tLoss: 1.580425\n",
      "Train Epoch: 8 [28800/48000 (60%)]\tLoss: 1.599734\n",
      "Train Epoch: 8 [32000/48000 (67%)]\tLoss: 1.580940\n",
      "Train Epoch: 8 [35200/48000 (73%)]\tLoss: 1.602335\n",
      "Train Epoch: 8 [38400/48000 (80%)]\tLoss: 1.632752\n",
      "Train Epoch: 8 [41600/48000 (87%)]\tLoss: 1.679380\n",
      "Train Epoch: 8 [44800/48000 (93%)]\tLoss: 1.550723\n"
     ]
    },
    {
     "name": "stderr",
     "output_type": "stream",
     "text": [
      "\r",
      " 53%|████████████████████████████████████████████▊                                       | 8/15 [02:20<02:04, 17.75s/it]"
     ]
    },
    {
     "name": "stdout",
     "output_type": "stream",
     "text": [
      "\n",
      "Validation set: number of correct labels: 10314/12000 accuracy: (86%)\n",
      "\n",
      "Train Epoch: 9 [0/48000 (0%)]\tLoss: 1.594189\n",
      "Train Epoch: 9 [3200/48000 (7%)]\tLoss: 1.609870\n",
      "Train Epoch: 9 [6400/48000 (13%)]\tLoss: 1.575824\n",
      "Train Epoch: 9 [9600/48000 (20%)]\tLoss: 1.566334\n",
      "Train Epoch: 9 [12800/48000 (27%)]\tLoss: 1.724497\n",
      "Train Epoch: 9 [16000/48000 (33%)]\tLoss: 1.579550\n",
      "Train Epoch: 9 [19200/48000 (40%)]\tLoss: 1.640142\n",
      "Train Epoch: 9 [22400/48000 (47%)]\tLoss: 1.678471\n",
      "Train Epoch: 9 [25600/48000 (53%)]\tLoss: 1.636256\n",
      "Train Epoch: 9 [28800/48000 (60%)]\tLoss: 1.628488\n",
      "Train Epoch: 9 [32000/48000 (67%)]\tLoss: 1.597139\n",
      "Train Epoch: 9 [35200/48000 (73%)]\tLoss: 1.648802\n",
      "Train Epoch: 9 [38400/48000 (80%)]\tLoss: 1.617468\n",
      "Train Epoch: 9 [41600/48000 (87%)]\tLoss: 1.619444\n",
      "Train Epoch: 9 [44800/48000 (93%)]\tLoss: 1.612651\n"
     ]
    },
    {
     "name": "stderr",
     "output_type": "stream",
     "text": [
      "\r",
      " 60%|██████████████████████████████████████████████████▍                                 | 9/15 [02:38<01:47, 17.85s/it]"
     ]
    },
    {
     "name": "stdout",
     "output_type": "stream",
     "text": [
      "\n",
      "Validation set: number of correct labels: 10289/12000 accuracy: (86%)\n",
      "\n",
      "Train Epoch: 10 [0/48000 (0%)]\tLoss: 1.607986\n",
      "Train Epoch: 10 [3200/48000 (7%)]\tLoss: 1.564507\n",
      "Train Epoch: 10 [6400/48000 (13%)]\tLoss: 1.653376\n",
      "Train Epoch: 10 [9600/48000 (20%)]\tLoss: 1.561169\n",
      "Train Epoch: 10 [12800/48000 (27%)]\tLoss: 1.633494\n",
      "Train Epoch: 10 [16000/48000 (33%)]\tLoss: 1.673619\n",
      "Train Epoch: 10 [19200/48000 (40%)]\tLoss: 1.587497\n",
      "Train Epoch: 10 [22400/48000 (47%)]\tLoss: 1.626420\n",
      "Train Epoch: 10 [25600/48000 (53%)]\tLoss: 1.580793\n",
      "Train Epoch: 10 [28800/48000 (60%)]\tLoss: 1.575083\n",
      "Train Epoch: 10 [32000/48000 (67%)]\tLoss: 1.624716\n",
      "Train Epoch: 10 [35200/48000 (73%)]\tLoss: 1.581511\n",
      "Train Epoch: 10 [38400/48000 (80%)]\tLoss: 1.586931\n",
      "Train Epoch: 10 [41600/48000 (87%)]\tLoss: 1.624202\n",
      "Train Epoch: 10 [44800/48000 (93%)]\tLoss: 1.649867\n"
     ]
    },
    {
     "name": "stderr",
     "output_type": "stream",
     "text": [
      "\r",
      " 67%|███████████████████████████████████████████████████████▎                           | 10/15 [02:57<01:30, 18.14s/it]"
     ]
    },
    {
     "name": "stdout",
     "output_type": "stream",
     "text": [
      "\n",
      "Validation set: number of correct labels: 10367/12000 accuracy: (86%)\n",
      "\n",
      "Train Epoch: 11 [0/48000 (0%)]\tLoss: 1.592849\n",
      "Train Epoch: 11 [3200/48000 (7%)]\tLoss: 1.554127\n",
      "Train Epoch: 11 [6400/48000 (13%)]\tLoss: 1.609100\n",
      "Train Epoch: 11 [9600/48000 (20%)]\tLoss: 1.599021\n",
      "Train Epoch: 11 [12800/48000 (27%)]\tLoss: 1.641373\n",
      "Train Epoch: 11 [16000/48000 (33%)]\tLoss: 1.620305\n",
      "Train Epoch: 11 [19200/48000 (40%)]\tLoss: 1.661602\n",
      "Train Epoch: 11 [22400/48000 (47%)]\tLoss: 1.650659\n",
      "Train Epoch: 11 [25600/48000 (53%)]\tLoss: 1.688113\n",
      "Train Epoch: 11 [28800/48000 (60%)]\tLoss: 1.580572\n",
      "Train Epoch: 11 [32000/48000 (67%)]\tLoss: 1.586804\n",
      "Train Epoch: 11 [35200/48000 (73%)]\tLoss: 1.578535\n",
      "Train Epoch: 11 [38400/48000 (80%)]\tLoss: 1.623040\n",
      "Train Epoch: 11 [41600/48000 (87%)]\tLoss: 1.654307\n",
      "Train Epoch: 11 [44800/48000 (93%)]\tLoss: 1.575915\n"
     ]
    },
    {
     "name": "stderr",
     "output_type": "stream",
     "text": [
      "\r",
      " 73%|████████████████████████████████████████████████████████████▊                      | 11/15 [03:14<01:10, 17.66s/it]"
     ]
    },
    {
     "name": "stdout",
     "output_type": "stream",
     "text": [
      "\n",
      "Validation set: number of correct labels: 10407/12000 accuracy: (87%)\n",
      "\n",
      "Train Epoch: 12 [0/48000 (0%)]\tLoss: 1.579856\n",
      "Train Epoch: 12 [3200/48000 (7%)]\tLoss: 1.670713\n",
      "Train Epoch: 12 [6400/48000 (13%)]\tLoss: 1.664247\n",
      "Train Epoch: 12 [9600/48000 (20%)]\tLoss: 1.559379\n",
      "Train Epoch: 12 [12800/48000 (27%)]\tLoss: 1.591329\n",
      "Train Epoch: 12 [16000/48000 (33%)]\tLoss: 1.566236\n",
      "Train Epoch: 12 [19200/48000 (40%)]\tLoss: 1.618901\n",
      "Train Epoch: 12 [22400/48000 (47%)]\tLoss: 1.625245\n",
      "Train Epoch: 12 [25600/48000 (53%)]\tLoss: 1.567103\n",
      "Train Epoch: 12 [28800/48000 (60%)]\tLoss: 1.625917\n",
      "Train Epoch: 12 [32000/48000 (67%)]\tLoss: 1.591480\n",
      "Train Epoch: 12 [35200/48000 (73%)]\tLoss: 1.564606\n",
      "Train Epoch: 12 [38400/48000 (80%)]\tLoss: 1.620566\n",
      "Train Epoch: 12 [41600/48000 (87%)]\tLoss: 1.544414\n",
      "Train Epoch: 12 [44800/48000 (93%)]\tLoss: 1.620636\n"
     ]
    },
    {
     "name": "stderr",
     "output_type": "stream",
     "text": [
      "\r",
      " 80%|██████████████████████████████████████████████████████████████████▍                | 12/15 [03:32<00:53, 17.84s/it]"
     ]
    },
    {
     "name": "stdout",
     "output_type": "stream",
     "text": [
      "\n",
      "Validation set: number of correct labels: 10397/12000 accuracy: (87%)\n",
      "\n",
      "Train Epoch: 13 [0/48000 (0%)]\tLoss: 1.632724\n",
      "Train Epoch: 13 [3200/48000 (7%)]\tLoss: 1.650441\n",
      "Train Epoch: 13 [6400/48000 (13%)]\tLoss: 1.523383\n",
      "Train Epoch: 13 [9600/48000 (20%)]\tLoss: 1.595931\n",
      "Train Epoch: 13 [12800/48000 (27%)]\tLoss: 1.654037\n",
      "Train Epoch: 13 [16000/48000 (33%)]\tLoss: 1.580615\n",
      "Train Epoch: 13 [19200/48000 (40%)]\tLoss: 1.646975\n",
      "Train Epoch: 13 [22400/48000 (47%)]\tLoss: 1.552611\n",
      "Train Epoch: 13 [25600/48000 (53%)]\tLoss: 1.615568\n",
      "Train Epoch: 13 [28800/48000 (60%)]\tLoss: 1.590455\n",
      "Train Epoch: 13 [32000/48000 (67%)]\tLoss: 1.654122\n",
      "Train Epoch: 13 [35200/48000 (73%)]\tLoss: 1.569557\n",
      "Train Epoch: 13 [38400/48000 (80%)]\tLoss: 1.608429\n",
      "Train Epoch: 13 [41600/48000 (87%)]\tLoss: 1.638707\n",
      "Train Epoch: 13 [44800/48000 (93%)]\tLoss: 1.598089\n"
     ]
    },
    {
     "name": "stderr",
     "output_type": "stream",
     "text": [
      "\r",
      " 87%|███████████████████████████████████████████████████████████████████████▉           | 13/15 [03:52<00:36, 18.45s/it]"
     ]
    },
    {
     "name": "stdout",
     "output_type": "stream",
     "text": [
      "\n",
      "Validation set: number of correct labels: 10341/12000 accuracy: (86%)\n",
      "\n",
      "Train Epoch: 14 [0/48000 (0%)]\tLoss: 1.557678\n",
      "Train Epoch: 14 [3200/48000 (7%)]\tLoss: 1.564539\n",
      "Train Epoch: 14 [6400/48000 (13%)]\tLoss: 1.642511\n",
      "Train Epoch: 14 [9600/48000 (20%)]\tLoss: 1.633624\n",
      "Train Epoch: 14 [12800/48000 (27%)]\tLoss: 1.567103\n",
      "Train Epoch: 14 [16000/48000 (33%)]\tLoss: 1.617904\n",
      "Train Epoch: 14 [19200/48000 (40%)]\tLoss: 1.629545\n",
      "Train Epoch: 14 [22400/48000 (47%)]\tLoss: 1.582128\n",
      "Train Epoch: 14 [25600/48000 (53%)]\tLoss: 1.580988\n",
      "Train Epoch: 14 [28800/48000 (60%)]\tLoss: 1.630619\n",
      "Train Epoch: 14 [32000/48000 (67%)]\tLoss: 1.607648\n",
      "Train Epoch: 14 [35200/48000 (73%)]\tLoss: 1.550660\n",
      "Train Epoch: 14 [38400/48000 (80%)]\tLoss: 1.572615\n",
      "Train Epoch: 14 [41600/48000 (87%)]\tLoss: 1.564977\n",
      "Train Epoch: 14 [44800/48000 (93%)]\tLoss: 1.585488\n"
     ]
    },
    {
     "name": "stderr",
     "output_type": "stream",
     "text": [
      "\r",
      " 93%|█████████████████████████████████████████████████████████████████████████████▍     | 14/15 [04:07<00:17, 17.58s/it]"
     ]
    },
    {
     "name": "stdout",
     "output_type": "stream",
     "text": [
      "\n",
      "Validation set: number of correct labels: 10378/12000 accuracy: (86%)\n",
      "\n",
      "Train Epoch: 15 [0/48000 (0%)]\tLoss: 1.584569\n",
      "Train Epoch: 15 [3200/48000 (7%)]\tLoss: 1.580771\n",
      "Train Epoch: 15 [6400/48000 (13%)]\tLoss: 1.602314\n",
      "Train Epoch: 15 [9600/48000 (20%)]\tLoss: 1.610090\n",
      "Train Epoch: 15 [12800/48000 (27%)]\tLoss: 1.633787\n",
      "Train Epoch: 15 [16000/48000 (33%)]\tLoss: 1.631658\n",
      "Train Epoch: 15 [19200/48000 (40%)]\tLoss: 1.492215\n",
      "Train Epoch: 15 [22400/48000 (47%)]\tLoss: 1.565163\n",
      "Train Epoch: 15 [25600/48000 (53%)]\tLoss: 1.557886\n",
      "Train Epoch: 15 [28800/48000 (60%)]\tLoss: 1.628153\n",
      "Train Epoch: 15 [32000/48000 (67%)]\tLoss: 1.512096\n",
      "Train Epoch: 15 [35200/48000 (73%)]\tLoss: 1.671860\n",
      "Train Epoch: 15 [38400/48000 (80%)]\tLoss: 1.632252\n",
      "Train Epoch: 15 [41600/48000 (87%)]\tLoss: 1.663274\n",
      "Train Epoch: 15 [44800/48000 (93%)]\tLoss: 1.620821\n"
     ]
    },
    {
     "name": "stderr",
     "output_type": "stream",
     "text": [
      "100%|███████████████████████████████████████████████████████████████████████████████████| 15/15 [04:24<00:00, 17.64s/it]"
     ]
    },
    {
     "name": "stdout",
     "output_type": "stream",
     "text": [
      "\n",
      "Validation set: number of correct labels: 10452/12000 accuracy: (87%)\n",
      "\n"
     ]
    },
    {
     "name": "stderr",
     "output_type": "stream",
     "text": [
      "\n"
     ]
    },
    {
     "name": "stdout",
     "output_type": "stream",
     "text": [
      "\n",
      "Test set: number of correct labels: 8587/10000 accuracy: (86%)\n",
      "\n"
     ]
    }
   ],
   "source": [
    "# Define your optimizer\n",
    "model = Network(28 * 28)\n",
    "\n",
    "optimizer = torch.optim.Adam(model.parameters(), lr=0.001)\n",
    "epochs = 15\n",
    "loss_fn = nn.CrossEntropyLoss()\n",
    "\n",
    "loss_list = []\n",
    "val_list=[]\n",
    "accuracy_list = np.zeros((epochs,))\n",
    "\n",
    "log_interval = 50\n",
    "import tqdm\n",
    "\n",
    "for epoch in tqdm.trange(epochs):\n",
    "    for idx, (data, labels) in enumerate(train_loader):\n",
    "        # Calculate training loss on model\n",
    "        data = torch.squeeze(data)\n",
    "        pred_y = model(torch.flatten(data, start_dim=1))\n",
    "    \n",
    "        loss = loss_fn(pred_y, labels)\n",
    "        alpha=0.01\n",
    "        loss+=alpha*sum(torch.linalg.norm(p, 1) for p in model.parameters())\n",
    "        \n",
    "        # zeros gradients\n",
    "        optimizer.zero_grad()\n",
    "        \n",
    "        loss.backward()\n",
    "        optimizer.step()\n",
    "    \n",
    "        if idx % log_interval == 0:\n",
    "            print(\n",
    "                \"Train Epoch: {} [{}/{} ({:.0f}%)]\\tLoss: {:.6f}\".format(\n",
    "                    epoch + 1,\n",
    "                    idx * len(data),\n",
    "                    len(train_loader.dataset),\n",
    "                    100.0 * idx / len(train_loader),\n",
    "                    loss.item(),\n",
    "                )\n",
    "            )\n",
    "        loss_list.append(loss.item())\n",
    "    # calculate validation loss\n",
    "    with torch.no_grad():\n",
    "        n_sample =len(val_loader.dataset)\n",
    "        n_correct=0\n",
    "        for idx, (data,labels) in enumerate(val_loader):\n",
    "            data = torch.squeeze(data)\n",
    "    \n",
    "            pred_y = model(torch.flatten(data,start_dim=1))\n",
    "          \n",
    "            loss= loss_fn(pred_y, labels)\n",
    "            \n",
    "            val_list.append(loss.item())\n",
    "    \n",
    "            n_correct+=sum(\n",
    "                (torch.argmax(pred_y, dim=1) == labels).type(torch.FloatTensor)\n",
    "            )\n",
    "        print(\n",
    "            \"\\nValidation set: number of correct labels: {}/{} accuracy: ({:.0f}%)\\n\".format(\n",
    "                int(n_correct), n_sample, 100.0 * n_correct / n_sample\n",
    "            )\n",
    "        )\n",
    "\n",
    "\n",
    "\n",
    "with torch.no_grad():\n",
    "    n_sample = len(test_loader.dataset)\n",
    "    n_correct = 0\n",
    "    for data, labels in test_loader:\n",
    "    \n",
    "        squeezed_X = torch.squeeze(data)\n",
    "        pred_y = model(torch.flatten(squeezed_X, start_dim=1))\n",
    "    \n",
    "        test_y = labels\n",
    "    \n",
    "        n_correct += sum(\n",
    "            (torch.argmax(pred_y, dim=1) == test_y).type(torch.FloatTensor)\n",
    "        )\n",
    "    \n",
    "    accuracy_list[epoch] = 100.0 * n_correct / n_sample\n",
    "    print(\n",
    "      \"\\nTest set: number of correct labels: {}/{} accuracy: ({:.0f}%)\\n\".format(\n",
    "          int(n_correct), n_sample, 100.0 * n_correct / n_sample\n",
    "      )\n",
    "    )"
   ]
  },
  {
   "cell_type": "code",
   "execution_count": 34,
   "metadata": {},
   "outputs": [
    {
     "data": {
      "image/png": "[encoded data removed]",
      "text/plain": [
       "<Figure size 864x432 with 2 Axes>"
      ]
     },
     "metadata": {
      "needs_background": "light"
     },
     "output_type": "display_data"
    }
   ],
   "source": [
    "import matplotlib.pyplot as plt\n",
    "\n",
    "fig, (ax1, ax2) = plt.subplots(2, figsize=(12, 6), sharex=False)\n",
    "\n",
    "ax1.plot(val_list)\n",
    "ax1.set_ylabel(\"validation loss\")\n",
    "ax1.set_xlabel(\"iterations\")\n",
    "ax2.plot(loss_list)\n",
    "ax2.set_ylabel(\"training loss\")\n",
    "ax2.set_xlabel(\"iterations\");"
   ]
  },
  {
   "cell_type": "code",
   "execution_count": null,
   "metadata": {},
   "outputs": [],
   "source": []
  }
 ],
 "metadata": {
  "colab": {
   "collapsed_sections": [],
   "name": "Lab 3 Notebook.ipynb",
   "provenance": []
  },
  "kernelspec": {
   "display_name": "Python 3 (ipykernel)",
   "language": "python",
   "name": "python3"
  },
  "language_info": {
   "codemirror_mode": {
    "name": "ipython",
    "version": 3
   },
   "file_extension": ".py",
   "mimetype": "text/x-python",
   "name": "python",
   "nbconvert_exporter": "python",
   "pygments_lexer": "ipython3",
   "version": "3.8.8"
  },
  "latex_envs": {
   "LaTeX_envs_menu_present": true,
   "autoclose": true,
   "autocomplete": false,
   "bibliofile": "biblio.bib",
   "cite_by": "apalike",
   "current_citInitial": 1,
   "eqLabelWithNumbers": false,
   "eqNumInitial": 1,
   "hotkeys": {
    "equation": "Ctrl-E",
    "itemize": "Ctrl-I"
   },
   "labels_anchors": false,
   "latex_user_defs": false,
   "report_style_numbering": false,
   "user_envs_cfg": false
  },
  "toc": {
   "base_numbering": 1,
   "nav_menu": {},
   "number_sections": true,
   "sideBar": true,
   "skip_h1_title": false,
   "title_cell": "Table of Contents",
   "title_sidebar": "Contents",
   "toc_cell": false,
   "toc_position": {},
   "toc_section_display": true,
   "toc_window_display": false
  },
  "varInspector": {
   "cols": {
    "lenName": 16,
    "lenType": 16,
    "lenVar": 40
   },
   "kernels_config": {
    "python": {
     "delete_cmd_postfix": "",
     "delete_cmd_prefix": "del ",
     "library": "var_list.py",
     "varRefreshCmd": "print(var_dic_list())"
    },
    "r": {
     "delete_cmd_postfix": ") ",
     "delete_cmd_prefix": "rm(",
     "library": "var_list.r",
     "varRefreshCmd": "cat(var_dic_list()) "
    }
   },
   "types_to_exclude": [
    "module",
    "function",
    "builtin_function_or_method",
    "instance",
    "_Feature"
   ],
   "window_display": false
  }
 },
 "nbformat": 4,
 "nbformat_minor": 1
}

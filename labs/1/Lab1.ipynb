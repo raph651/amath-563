{
 "cells": [
  {
   "cell_type": "markdown",
   "metadata": {
    "id": "VOBjwKeEm7nQ"
   },
   "source": [
    "# Lab 1: Introduction"
   ]
  },
  {
   "cell_type": "markdown",
   "metadata": {
    "id": "hF0KINHRHAI6"
   },
   "source": [
    "The Python version I'm using is 3.8.8. The Python environment is setup on Windows through WSL2 Ubuntu. Jupyter notebook and VS code are installed. Also, Google Colab is used for cloud computing. "
   ]
  },
  {
   "cell_type": "markdown",
   "metadata": {
    "id": "2CMkjFYsQuxF"
   },
   "source": [
    "# Part 1: Using Numpy"
   ]
  },
  {
   "cell_type": "code",
   "execution_count": null,
   "metadata": {
    "id": "yXRToE9Dmmwo"
   },
   "outputs": [],
   "source": [
    "import numpy as np  # import numpy"
   ]
  },
  {
   "cell_type": "markdown",
   "metadata": {
    "id": "UYyIqkVTXKLg"
   },
   "source": [
    "## Creating n-dimensional numpy arrays from Python lists"
   ]
  },
  {
   "cell_type": "code",
   "execution_count": null,
   "metadata": {
    "colab": {
     "base_uri": "https://localhost:8080/"
    },
    "id": "YW5M33PomPQ0",
    "outputId": "4cfa4945-2b8c-414d-bd19-efe8cba906fb"
   },
   "outputs": [
    {
     "name": "stdout",
     "output_type": "stream",
     "text": [
      "[1 2 3 4 5] (5,)\n",
      "[[ 1  2  3  4  5]\n",
      " [ 6  7  8  9 10]\n",
      " [11 12 13 14 15]] (3, 5)\n",
      "[[[ 1  2  3  4  5]\n",
      "  [ 6  7  8  9 10]\n",
      "  [11 12 13 14 15]]\n",
      "\n",
      " [[16 17 18 19 20]\n",
      "  [21 22 23 24 25]\n",
      "  [26 27 28 29 30]]] (2, 3, 5)\n",
      "<class 'numpy.ndarray'>\n"
     ]
    }
   ],
   "source": [
    "# Defining a numpy array\n",
    "\n",
    "# 1D array\n",
    "arr = np.array([1, 2, 3, 4, 5])\n",
    "\n",
    "# 2D array\n",
    "arr_2d = np.array([[1, 2, 3, 4, 5], [6, 7, 8, 9, 10], [11, 12, 13, 14, 15]])\n",
    "\n",
    "# 3D array\n",
    "arr_3d = np.array(\n",
    "    [\n",
    "        [[1, 2, 3, 4, 5], [6, 7, 8, 9, 10], [11, 12, 13, 14, 15]],\n",
    "        [[16, 17, 18, 19, 20], [21, 22, 23, 24, 25], [26, 27, 28, 29, 30]],\n",
    "    ]\n",
    ")\n",
    "\n",
    "print(arr, arr.shape)  # Prints the array and its dimensions\n",
    "print(arr_2d, arr_2d.shape)\n",
    "print(arr_3d, arr_3d.shape)\n",
    "\n",
    "print(type(arr))  # Numpy array has 'numpy.ndarray' type"
   ]
  },
  {
   "cell_type": "markdown",
   "metadata": {
    "id": "FhkfogOIwB7S"
   },
   "source": [
    "## Creating numpy arrays from numpy commands"
   ]
  },
  {
   "cell_type": "code",
   "execution_count": null,
   "metadata": {
    "colab": {
     "base_uri": "https://localhost:8080/"
    },
    "id": "ceKz9vlEnBqu",
    "outputId": "9972dbde-d683-4f8e-fc02-0bd53e725023"
   },
   "outputs": [
    {
     "name": "stdout",
     "output_type": "stream",
     "text": [
      "[[0. 0. 0. 0.]\n",
      " [0. 0. 0. 0.]\n",
      " [0. 0. 0. 0.]]\n",
      "[[1. 1. 1. 1.]\n",
      " [1. 1. 1. 1.]\n",
      " [1. 1. 1. 1.]]\n",
      "[0 1 2 3 4 5 6 7 8 9]\n",
      "[0. 1. 2. 3. 4. 5. 6. 7. 8. 9.]\n"
     ]
    }
   ],
   "source": [
    "# Define number of each dimension\n",
    "\n",
    "n1 = 3\n",
    "n2 = 4\n",
    "n3 = 5\n",
    "\n",
    "# Zeros array\n",
    "zeros_1d = np.zeros(n1)\n",
    "zeros_2d = np.zeros((n1, n2))\n",
    "zeros_3d = np.zeros((n1, n2, n3))\n",
    "\n",
    "# Ones array\n",
    "ones_1d = np.ones(n1)\n",
    "ones_2d = np.ones((n1, n2))\n",
    "ones_3d = np.ones((n1, n2, n3))\n",
    "\n",
    "# Creating array using np.arange\n",
    "arr_arange = np.arange(0, 10, 1)  # (start, stop, stepsize)\n",
    "\n",
    "# Creating an array using np.linspace\n",
    "arr_linspace = np.linspace(0, 9, 10)  # (start, stop, # of bins)\n",
    "\n",
    "print(zeros_2d)\n",
    "print(ones_2d)\n",
    "print(arr_arange)\n",
    "print(arr_linspace)"
   ]
  },
  {
   "cell_type": "code",
   "execution_count": null,
   "metadata": {
    "colab": {
     "base_uri": "https://localhost:8080/"
    },
    "id": "fjIAvYMrnBb3",
    "outputId": "2bca53b2-b8d8-46bb-83fc-5f93c3493d8c"
   },
   "outputs": [
    {
     "name": "stdout",
     "output_type": "stream",
     "text": [
      "[[ 1.3315865   0.71527897 -1.54540029 -0.00838385]\n",
      " [ 0.62133597 -0.72008556  0.26551159  0.10854853]\n",
      " [ 0.00429143 -0.17460021  0.43302619  1.20303737]]\n"
     ]
    }
   ],
   "source": [
    "# Random array\n",
    "\n",
    "np.random.seed(\n",
    "    10\n",
    ")  # Fixes the seed number so that random samplings always give same results\n",
    "\n",
    "rand_arr = np.random.randn(\n",
    "    n1, n2\n",
    ")  # Random array sampled from standard normal distribution\n",
    "print(rand_arr)"
   ]
  },
  {
   "cell_type": "markdown",
   "metadata": {
    "id": "v41QUq4BXaxT"
   },
   "source": [
    "## Matrix operations in Numpy"
   ]
  },
  {
   "cell_type": "code",
   "execution_count": null,
   "metadata": {
    "colab": {
     "base_uri": "https://localhost:8080/"
    },
    "id": "2uXeiCfXoxPY",
    "outputId": "7eaa1559-043e-49fc-f002-b0e6288585e7"
   },
   "outputs": [
    {
     "name": "stdout",
     "output_type": "stream",
     "text": [
      "[[2. 2. 2. 2.]\n",
      " [2. 2. 2. 2.]\n",
      " [2. 2. 2. 2.]]\n"
     ]
    }
   ],
   "source": [
    "# Elementwise Addition\n",
    "twos_2d = np.add(ones_2d, ones_2d)\n",
    "print(twos_2d)"
   ]
  },
  {
   "cell_type": "code",
   "execution_count": null,
   "metadata": {
    "colab": {
     "base_uri": "https://localhost:8080/"
    },
    "id": "DfKXv1wM0bvP",
    "outputId": "1a80cc8e-3b75-4103-c8b3-7dfad804f1d7"
   },
   "outputs": [
    {
     "name": "stdout",
     "output_type": "stream",
     "text": [
      "[[3. 3. 3. 3.]\n",
      " [3. 3. 3. 3.]\n",
      " [3. 3. 3. 3.]]\n",
      "[[3. 3. 3. 3.]\n",
      " [3. 3. 3. 3.]\n",
      " [3. 3. 3. 3.]]\n"
     ]
    }
   ],
   "source": [
    "# Elementwise Subtraction\n",
    "fives_2d = ones_2d * 5\n",
    "print(np.subtract(fives_2d, twos_2d))\n",
    "print(fives_2d - 2)  # alternative method"
   ]
  },
  {
   "cell_type": "code",
   "execution_count": null,
   "metadata": {
    "colab": {
     "base_uri": "https://localhost:8080/"
    },
    "id": "T2d1aX6N0b4G",
    "outputId": "af25d81a-ff17-4984-a8aa-2cb958de294d"
   },
   "outputs": [
    {
     "name": "stdout",
     "output_type": "stream",
     "text": [
      "[[10. 10. 10. 10.]\n",
      " [10. 10. 10. 10.]\n",
      " [10. 10. 10. 10.]]\n"
     ]
    }
   ],
   "source": [
    "# Elementwise Multiplication\n",
    "print(np.multiply(fives_2d, twos_2d))"
   ]
  },
  {
   "cell_type": "code",
   "execution_count": null,
   "metadata": {
    "colab": {
     "base_uri": "https://localhost:8080/"
    },
    "id": "iFDSf2i80b-i",
    "outputId": "df037432-4e68-46ab-fc86-8fe30352c504"
   },
   "outputs": [
    {
     "name": "stdout",
     "output_type": "stream",
     "text": [
      "[[2.5 2.5 2.5 2.5]\n",
      " [2.5 2.5 2.5 2.5]\n",
      " [2.5 2.5 2.5 2.5]]\n"
     ]
    }
   ],
   "source": [
    "# Elementwise Division\n",
    "print(np.divide(fives_2d, twos_2d))"
   ]
  },
  {
   "cell_type": "code",
   "execution_count": null,
   "metadata": {
    "colab": {
     "base_uri": "https://localhost:8080/"
    },
    "id": "xIzmQ9xz0cF1",
    "outputId": "9ee0982c-6b3b-4e62-c524-adba3724597b"
   },
   "outputs": [
    {
     "name": "stdout",
     "output_type": "stream",
     "text": [
      "[6. 6. 6.]\n"
     ]
    }
   ],
   "source": [
    "# Dot product\n",
    "A = ones_2d.copy()\n",
    "b = np.arange(0, 4, 1)\n",
    "print(np.dot(A, b))"
   ]
  },
  {
   "cell_type": "code",
   "execution_count": null,
   "metadata": {
    "colab": {
     "base_uri": "https://localhost:8080/"
    },
    "id": "LdQw7pG40cKk",
    "outputId": "a98bf930-8ca6-4209-e3a6-9e397a0a02df"
   },
   "outputs": [
    {
     "name": "stdout",
     "output_type": "stream",
     "text": [
      "[[8. 8. 8. 8.]\n",
      " [8. 8. 8. 8.]\n",
      " [8. 8. 8. 8.]]\n"
     ]
    }
   ],
   "source": [
    "# Elementwise Power\n",
    "print(np.power(twos_2d, 3))  # (array to be powered, power constant)"
   ]
  },
  {
   "cell_type": "code",
   "execution_count": null,
   "metadata": {
    "colab": {
     "base_uri": "https://localhost:8080/"
    },
    "id": "um1ouxr10cPP",
    "outputId": "45a656a2-ae7e-4c01-b7b7-d962e93c8e53"
   },
   "outputs": [
    {
     "name": "stdout",
     "output_type": "stream",
     "text": [
      "[[1. 1. 1. 1.]\n",
      " [1. 1. 1. 1.]\n",
      " [1. 1. 1. 1.]]\n",
      "[[1. 1. 1.]\n",
      " [1. 1. 1.]\n",
      " [1. 1. 1.]\n",
      " [1. 1. 1.]]\n",
      "[[1. 1. 1.]\n",
      " [1. 1. 1.]\n",
      " [1. 1. 1.]\n",
      " [1. 1. 1.]]\n"
     ]
    }
   ],
   "source": [
    "# Transpose\n",
    "print(ones_2d)\n",
    "print(ones_2d.T)  # method 1\n",
    "print(np.transpose(ones_2d))  # method 2"
   ]
  },
  {
   "cell_type": "markdown",
   "metadata": {
    "id": "Wjz11P4YXN-K"
   },
   "source": [
    "## Useful Numpy functions"
   ]
  },
  {
   "cell_type": "code",
   "execution_count": null,
   "metadata": {
    "colab": {
     "base_uri": "https://localhost:8080/"
    },
    "id": "XUI0IGSopXwL",
    "outputId": "d6541da5-b0ab-4ac5-d631-e533eefe63db"
   },
   "outputs": [
    {
     "name": "stdout",
     "output_type": "stream",
     "text": [
      "[1. 1. 1. 0. 0. 0.]\n"
     ]
    }
   ],
   "source": [
    "# np.concatenate\n",
    "\n",
    "print(\n",
    "    np.concatenate([ones_1d, zeros_1d])\n",
    ")  # Concatenation between 1D arrays joins them into a single array"
   ]
  },
  {
   "cell_type": "code",
   "execution_count": null,
   "metadata": {
    "colab": {
     "base_uri": "https://localhost:8080/"
    },
    "id": "r9IsCt-J1QZj",
    "outputId": "dc9f0984-e804-44db-ca86-ab3d6d1162d0"
   },
   "outputs": [
    {
     "name": "stdout",
     "output_type": "stream",
     "text": [
      "[[[1. 1. 1. 1.]\n",
      "  [1. 1. 1. 1.]\n",
      "  [1. 1. 1. 1.]]\n",
      "\n",
      " [[2. 2. 2. 2.]\n",
      "  [2. 2. 2. 2.]\n",
      "  [2. 2. 2. 2.]]]\n",
      "[[1. 1. 1. 1. 2. 2. 2. 2.]\n",
      " [1. 1. 1. 1. 2. 2. 2. 2.]\n",
      " [1. 1. 1. 1. 2. 2. 2. 2.]]\n",
      "[[1. 1. 1. 1.]\n",
      " [1. 1. 1. 1.]\n",
      " [1. 1. 1. 1.]\n",
      " [2. 2. 2. 2.]\n",
      " [2. 2. 2. 2.]\n",
      " [2. 2. 2. 2.]]\n"
     ]
    }
   ],
   "source": [
    "# np.stack (vstack and hstack)\n",
    "\n",
    "print(np.stack([ones_2d, twos_2d]))  # np.stack([2D, 2D]) outputs 3D array\n",
    "print(\n",
    "    np.hstack([ones_2d, twos_2d])\n",
    ")  # np.hstack([2D, 2D]) outputs horizontally stacked 2D arrays\n",
    "print(\n",
    "    np.vstack([ones_2d, twos_2d])\n",
    ")  # np.vstack([2D, 2D]) outputs vertically stacked 2D arrays"
   ]
  },
  {
   "cell_type": "code",
   "execution_count": null,
   "metadata": {
    "colab": {
     "base_uri": "https://localhost:8080/"
    },
    "id": "g5EbGpMQ1QdU",
    "outputId": "2073af87-ad37-4d6c-edab-39b595bd10fc"
   },
   "outputs": [
    {
     "name": "stdout",
     "output_type": "stream",
     "text": [
      "0\n",
      "9\n",
      "4.5\n",
      "45\n"
     ]
    }
   ],
   "source": [
    "# np.min, np.max, np.mean, np.sum\n",
    "\n",
    "arr = np.arange(10)  # 0 to 9\n",
    "\n",
    "print(np.min(arr))  # minimum value of the array\n",
    "print(np.max(arr))  # maximum value of the array\n",
    "print(np.mean(arr))  # mean value of the array\n",
    "print(np.sum(arr))  # summation of all the elements"
   ]
  },
  {
   "cell_type": "code",
   "execution_count": null,
   "metadata": {
    "colab": {
     "base_uri": "https://localhost:8080/"
    },
    "id": "N5zuvOrgCrtt",
    "outputId": "e8e2040e-f55f-40b5-f40d-829d09c996df"
   },
   "outputs": [
    {
     "name": "stdout",
     "output_type": "stream",
     "text": [
      "0\n",
      "9\n",
      "[0 9 2 7 5 3 1 6 4 8]\n",
      "[0 6 2 5 8 4 7 3 9 1]\n"
     ]
    }
   ],
   "source": [
    "# np.argmin, np.argmax, np.argsort\n",
    "\n",
    "print(np.argmin(arr))  # Finds the index corresponding to minimum value\n",
    "print(np.argmax(arr))  # Finds the index corresponding to maximum value\n",
    "\n",
    "np.random.shuffle(arr)  # Shuffles the array\n",
    "print(arr)  # Shuffled array\n",
    "\n",
    "print(np.argsort(arr))  # Sorts the array indices from the smallest to the largest value"
   ]
  },
  {
   "cell_type": "code",
   "execution_count": null,
   "metadata": {
    "colab": {
     "base_uri": "https://localhost:8080/"
    },
    "id": "uW9JWnx_1Qg6",
    "outputId": "23c07eaf-67fd-4a0a-b8e2-a1e5cdac2496"
   },
   "outputs": [
    {
     "name": "stdout",
     "output_type": "stream",
     "text": [
      "(array([3]),)\n",
      "(array([1, 3, 9]),)\n"
     ]
    }
   ],
   "source": [
    "# np.where\n",
    "\n",
    "print(\n",
    "    np.where(arr == 7)\n",
    ")  # Finds the specific indicies in the array that satisfies the condition\n",
    "print(np.where(arr >= 7))  # Another example using inequality"
   ]
  },
  {
   "cell_type": "markdown",
   "metadata": {
    "id": "fEa52rt8RFuF"
   },
   "source": [
    "# Part 2: Plotting Data"
   ]
  },
  {
   "cell_type": "code",
   "execution_count": null,
   "metadata": {
    "id": "0fCxTUn0UrVy"
   },
   "outputs": [],
   "source": [
    "#%matplotlib inline   # If using local notebook runtime, allows you to display the plot inside the jupyter notebook\n",
    "#%matplotlib notebook # Alternatively, you can use this line instead for interactive plots\n",
    "\n",
    "import matplotlib.pyplot as plt"
   ]
  },
  {
   "cell_type": "markdown",
   "metadata": {
    "id": "zROYzASTqm1c"
   },
   "source": [
    "## Basic plotting"
   ]
  },
  {
   "cell_type": "code",
   "execution_count": null,
   "metadata": {
    "colab": {
     "base_uri": "https://localhost:8080/",
     "height": 282
    },
    "id": "Sq1iXwigqH7l",
    "outputId": "3c98108b-e834-42a2-ed4b-c68f4020458a"
   },
   "outputs": [
    {
     "data": {
      "text/plain": [
       "[<matplotlib.lines.Line2D at 0x7f39c336cd00>]"
      ]
     },
     "execution_count": 19,
     "metadata": {},
     "output_type": "execute_result"
    },
    {
     "data": {
      "image/png": "[encoded data removed]",
      "text/plain": [
       "<Figure size 432x288 with 1 Axes>"
      ]
     },
     "metadata": {
      "needs_background": "light"
     },
     "output_type": "display_data"
    }
   ],
   "source": [
    "x = np.arange(0, 10, 1 / 32)  # x axis data\n",
    "y = np.sin(x)  # y axis data\n",
    "plt.plot(x, y)  # plot the data"
   ]
  },
  {
   "cell_type": "markdown",
   "metadata": {
    "id": "g8E9UK4hqpcF"
   },
   "source": [
    "## Labeling your plots"
   ]
  },
  {
   "cell_type": "code",
   "execution_count": null,
   "metadata": {
    "colab": {
     "base_uri": "https://localhost:8080/",
     "height": 295
    },
    "id": "9vRpvao1qIpk",
    "outputId": "1fa20410-02bf-43b0-adad-b53f21954884"
   },
   "outputs": [
    {
     "data": {
      "image/png": "[encoded data removed]",
      "text/plain": [
       "<Figure size 432x288 with 1 Axes>"
      ]
     },
     "metadata": {
      "needs_background": "light"
     },
     "output_type": "display_data"
    }
   ],
   "source": [
    "plt.plot(x, y)\n",
    "plt.title(\"y=sin(x)\")  # set the title\n",
    "plt.xlabel(\"x\")  # set the x axis label\n",
    "plt.ylabel(\"y\")  # set the y axis label\n",
    "plt.xlim(-1, 11)  # set the x axis range\n",
    "plt.ylim(-2, 2)  # set the y axis range\n",
    "plt.grid()  # enable the grid"
   ]
  },
  {
   "cell_type": "markdown",
   "metadata": {
    "id": "rnzo9q8Eqtn8"
   },
   "source": [
    "## Multiple plots"
   ]
  },
  {
   "cell_type": "code",
   "execution_count": null,
   "metadata": {
    "colab": {
     "base_uri": "https://localhost:8080/",
     "height": 308
    },
    "id": "nalHV8J1qIhs",
    "outputId": "fae9e953-eead-4b3d-f330-fa5cee67b204"
   },
   "outputs": [
    {
     "data": {
      "image/png": "[encoded data removed]",
      "text/plain": [
       "<Figure size 432x288 with 1 Axes>"
      ]
     },
     "metadata": {
      "needs_background": "light"
     },
     "output_type": "display_data"
    }
   ],
   "source": [
    "# Multiple Plots\n",
    "# On same figure\n",
    "x = np.arange(0, 10, 1 / 32)  # x axis data\n",
    "y1 = np.sin(x)  # y axis data 1\n",
    "y2 = np.cos(x)  # y axis data 2\n",
    "y3 = np.tan(x)  # y axis data 3\n",
    "plt.figure(1)  # create figure 1\n",
    "plt.plot(x, y1, label=\"sin(x)\")\n",
    "plt.plot(x, y2, label=\"cos(x)\")\n",
    "plt.plot(x, y3, label=\"tan(x)\")\n",
    "plt.xlabel(\"x\")\n",
    "plt.ylabel(\"y\")\n",
    "plt.xlim(-1, 11)\n",
    "plt.ylim(-2, 2)\n",
    "plt.suptitle(\"Trigonometric Functions\")\n",
    "plt.legend()\n",
    "plt.show()"
   ]
  },
  {
   "cell_type": "markdown",
   "metadata": {
    "id": "p-PHYpYDqvko"
   },
   "source": [
    "## Creating subplots"
   ]
  },
  {
   "cell_type": "code",
   "execution_count": null,
   "metadata": {
    "colab": {
     "base_uri": "https://localhost:8080/",
     "height": 585
    },
    "id": "CDDlHgGhqMei",
    "outputId": "ebeb7989-6576-4e87-cb43-7e263d2c43ba"
   },
   "outputs": [
    {
     "data": {
      "image/png": "[encoded data removed]",
      "text/plain": [
       "<Figure size 576x576 with 3 Axes>"
      ]
     },
     "metadata": {
      "needs_background": "light"
     },
     "output_type": "display_data"
    }
   ],
   "source": [
    "# Multiple Subplots\n",
    "x = np.arange(0, 10, 1 / 32)  # x axis data\n",
    "y1 = np.sin(x)  # y axis data for subplot 1\n",
    "y2 = np.cos(x)  # y axis data for subplot 2\n",
    "y3 = np.tan(x)  # y axis data for subplot 3\n",
    "\n",
    "fig = plt.figure(2, figsize=(8, 8))  # create figure 2\n",
    "\n",
    "plt.subplot(311)  # (number of rows, number of columns, current plot)\n",
    "plt.plot(x, y1)\n",
    "plt.title(\"sin(x)\")\n",
    "plt.xlabel(\"x\")\n",
    "plt.ylabel(\"y\")\n",
    "\n",
    "plt.subplot(312)\n",
    "plt.plot(x, y2)\n",
    "plt.title(\"cos(x)\")\n",
    "plt.xlabel(\"x\")\n",
    "plt.ylabel(\"y\")\n",
    "\n",
    "plt.subplot(313)\n",
    "plt.plot(x, y3)\n",
    "plt.title(\"tan(x)\")\n",
    "plt.xlabel(\"x\")\n",
    "plt.ylabel(\"y\")\n",
    "plt.ylim(-1, 1)\n",
    "\n",
    "fig.tight_layout()"
   ]
  },
  {
   "cell_type": "markdown",
   "metadata": {
    "id": "uzEd0yNS_L8S"
   },
   "source": [
    "# Part 3: Working with data\n"
   ]
  },
  {
   "cell_type": "code",
   "execution_count": null,
   "metadata": {
    "id": "a9iFlFXrHAJK",
    "outputId": "cf3f4d00-e644-4a58-fdd7-42d8bdb26129"
   },
   "outputs": [
    {
     "data": {
      "text/html": [
       "<div>\n",
       "<style scoped>\n",
       "    .dataframe tbody tr th:only-of-type {\n",
       "        vertical-align: middle;\n",
       "    }\n",
       "\n",
       "    .dataframe tbody tr th {\n",
       "        vertical-align: top;\n",
       "    }\n",
       "\n",
       "    .dataframe thead th {\n",
       "        text-align: right;\n",
       "    }\n",
       "</style>\n",
       "<table border=\"1\" class=\"dataframe\">\n",
       "  <thead>\n",
       "    <tr style=\"text-align: right;\">\n",
       "      <th></th>\n",
       "      <th>Pregnancies</th>\n",
       "      <th>Glucose</th>\n",
       "      <th>BloodPressure</th>\n",
       "      <th>SkinThickness</th>\n",
       "      <th>Insulin</th>\n",
       "      <th>BMI</th>\n",
       "      <th>DiabetesPedigreeFunction</th>\n",
       "      <th>Age</th>\n",
       "      <th>Outcome</th>\n",
       "    </tr>\n",
       "  </thead>\n",
       "  <tbody>\n",
       "    <tr>\n",
       "      <th>0</th>\n",
       "      <td>6</td>\n",
       "      <td>148</td>\n",
       "      <td>72</td>\n",
       "      <td>35</td>\n",
       "      <td>0</td>\n",
       "      <td>33.6</td>\n",
       "      <td>0.627</td>\n",
       "      <td>50</td>\n",
       "      <td>1</td>\n",
       "    </tr>\n",
       "    <tr>\n",
       "      <th>1</th>\n",
       "      <td>1</td>\n",
       "      <td>85</td>\n",
       "      <td>66</td>\n",
       "      <td>29</td>\n",
       "      <td>0</td>\n",
       "      <td>26.6</td>\n",
       "      <td>0.351</td>\n",
       "      <td>31</td>\n",
       "      <td>0</td>\n",
       "    </tr>\n",
       "    <tr>\n",
       "      <th>2</th>\n",
       "      <td>8</td>\n",
       "      <td>183</td>\n",
       "      <td>64</td>\n",
       "      <td>0</td>\n",
       "      <td>0</td>\n",
       "      <td>23.3</td>\n",
       "      <td>0.672</td>\n",
       "      <td>32</td>\n",
       "      <td>1</td>\n",
       "    </tr>\n",
       "    <tr>\n",
       "      <th>3</th>\n",
       "      <td>1</td>\n",
       "      <td>89</td>\n",
       "      <td>66</td>\n",
       "      <td>23</td>\n",
       "      <td>94</td>\n",
       "      <td>28.1</td>\n",
       "      <td>0.167</td>\n",
       "      <td>21</td>\n",
       "      <td>0</td>\n",
       "    </tr>\n",
       "    <tr>\n",
       "      <th>4</th>\n",
       "      <td>0</td>\n",
       "      <td>137</td>\n",
       "      <td>40</td>\n",
       "      <td>35</td>\n",
       "      <td>168</td>\n",
       "      <td>43.1</td>\n",
       "      <td>2.288</td>\n",
       "      <td>33</td>\n",
       "      <td>1</td>\n",
       "    </tr>\n",
       "  </tbody>\n",
       "</table>\n",
       "</div>"
      ],
      "text/plain": [
       "   Pregnancies  Glucose  BloodPressure  SkinThickness  Insulin   BMI  \\\n",
       "0            6      148             72             35        0  33.6   \n",
       "1            1       85             66             29        0  26.6   \n",
       "2            8      183             64              0        0  23.3   \n",
       "3            1       89             66             23       94  28.1   \n",
       "4            0      137             40             35      168  43.1   \n",
       "\n",
       "   DiabetesPedigreeFunction  Age  Outcome  \n",
       "0                     0.627   50        1  \n",
       "1                     0.351   31        0  \n",
       "2                     0.672   32        1  \n",
       "3                     0.167   21        0  \n",
       "4                     2.288   33        1  "
      ]
     },
     "execution_count": 1,
     "metadata": {},
     "output_type": "execute_result"
    }
   ],
   "source": [
    "import pandas as pd\n",
    "import sklearn\n",
    "\n",
    "# Import necessary modules\n",
    "from sklearn.linear_model import LogisticRegressionCV\n",
    "\n",
    "diabetes = pd.read_csv(\"diabetes.csv\")  # Read the dataset with pandas\n",
    "diabetes.head()  # Display the head of the data"
   ]
  },
  {
   "cell_type": "code",
   "execution_count": null,
   "metadata": {
    "id": "l4dCVU9jHAJK"
   },
   "outputs": [],
   "source": [
    "# Scaling the data\n",
    "\n",
    "X1 = diabetes.values[:, :-1]  # Extract features\n",
    "Y1 = diabetes.values[:, -1]  # Extract labels\n",
    "\n",
    "# Scale the data z = (x - u) / s\n",
    "\n",
    "X1_mean = np.mean(X1, axis=0)  # Compute means\n",
    "X1_std = np.std(X1, axis=0)  # Compute stds\n",
    "X1_mean_repeated = np.tile(\n",
    "    X1_mean, (len(X1), 1)\n",
    ")  # Create repeated array of mean to match X1 dimension\n",
    "X1_std_repeated = np.tile(\n",
    "    X1_std, (len(X1), 1)\n",
    ")  # Create repeated array of std to match X1 dimension\n",
    "X1_scaled = np.divide(\n",
    "    np.subtract(X1, X1_mean_repeated), X1_std_repeated\n",
    ")  # Compute z for the array"
   ]
  },
  {
   "cell_type": "code",
   "execution_count": null,
   "metadata": {
    "id": "CMMI-cpLHAJL"
   },
   "outputs": [],
   "source": [
    "# Divide the data into training and testing\n",
    "\n",
    "test_ratio = 0.3  # Set the test data ratio\n",
    "train_size = int(\n",
    "    len(X1) * (1 - test_ratio)\n",
    ")  # Set training data size based on test ratio\n",
    "\n",
    "X_train = X1_scaled[:train_size]\n",
    "X_test = X1_scaled[train_size:]\n",
    "Y_train = Y1[:train_size]\n",
    "Y_test = Y1[train_size:]"
   ]
  },
  {
   "cell_type": "code",
   "execution_count": null,
   "metadata": {
    "id": "grLfzfTbHAJL",
    "outputId": "d94efdc1-97b3-40a0-a7ed-a91db89b6173"
   },
   "outputs": [
    {
     "name": "stdout",
     "output_type": "stream",
     "text": [
      "Accuracy: 78.79%\n"
     ]
    }
   ],
   "source": [
    "# Use cross validation to train\n",
    "model = LogisticRegressionCV(cv=10).fit(X_train, Y_train)\n",
    "result = model.score(X_test, Y_test)\n",
    "\n",
    "print(\"Accuracy: %.2f%%\" % (result * 100))"
   ]
  },
  {
   "cell_type": "markdown",
   "metadata": {
    "id": "x7xmkhCeSc_m"
   },
   "source": [
    "# Lab Assignment: Implement Neural Network for XOR gate from scratch \n"
   ]
  },
  {
   "cell_type": "code",
   "execution_count": 1,
   "metadata": {
    "colab": {
     "base_uri": "https://localhost:8080/",
     "height": 192
    },
    "id": "1Lu3k4tgRKMU",
    "outputId": "f9748574-d918-4dfc-b2f1-7e34df8bbfa1"
   },
   "outputs": [
    {
     "data": {
      "text/html": [
       "<div>\n",
       "<style scoped>\n",
       "    .dataframe tbody tr th:only-of-type {\n",
       "        vertical-align: middle;\n",
       "    }\n",
       "\n",
       "    .dataframe tbody tr th {\n",
       "        vertical-align: top;\n",
       "    }\n",
       "\n",
       "    .dataframe thead th {\n",
       "        text-align: right;\n",
       "    }\n",
       "</style>\n",
       "<table border=\"1\" class=\"dataframe\">\n",
       "  <thead>\n",
       "    <tr style=\"text-align: right;\">\n",
       "      <th></th>\n",
       "      <th>x1</th>\n",
       "      <th>x2</th>\n",
       "      <th>y</th>\n",
       "    </tr>\n",
       "  </thead>\n",
       "  <tbody>\n",
       "    <tr>\n",
       "      <th>0</th>\n",
       "      <td>0</td>\n",
       "      <td>0</td>\n",
       "      <td>0</td>\n",
       "    </tr>\n",
       "    <tr>\n",
       "      <th>1</th>\n",
       "      <td>0</td>\n",
       "      <td>1</td>\n",
       "      <td>1</td>\n",
       "    </tr>\n",
       "    <tr>\n",
       "      <th>2</th>\n",
       "      <td>1</td>\n",
       "      <td>0</td>\n",
       "      <td>1</td>\n",
       "    </tr>\n",
       "    <tr>\n",
       "      <th>3</th>\n",
       "      <td>1</td>\n",
       "      <td>1</td>\n",
       "      <td>0</td>\n",
       "    </tr>\n",
       "  </tbody>\n",
       "</table>\n",
       "</div>"
      ],
      "text/plain": [
       "   x1  x2  y\n",
       "0   0   0  0\n",
       "1   0   1  1\n",
       "2   1   0  1\n",
       "3   1   1  0"
      ]
     },
     "execution_count": 1,
     "metadata": {},
     "output_type": "execute_result"
    }
   ],
   "source": [
    "# XOR table\n",
    "\n",
    "#from google.colab import drive\n",
    "import pandas as pd\n",
    "import numpy as np\n",
    "\n",
    "#drive.mount(\"/content/drive\")\n",
    "#XOR_table = pd.read_csv(\n",
    "#   \"/content/drive/MyDrive/Colab Notebooks/amath 563/labs/1/XOR_table.csv\"\n",
    "#)\n",
    "\n",
    "\n",
    "XOR_table = pd.read_csv('XOR_table.csv')\n",
    "XOR_table"
   ]
  },
  {
   "cell_type": "code",
   "execution_count": 2,
   "metadata": {
    "colab": {
     "base_uri": "https://localhost:8080/"
    },
    "id": "_oCWE2KK_vVr",
    "outputId": "bd8183b9-f63f-4b9e-ed77-2f5717baf391"
   },
   "outputs": [
    {
     "name": "stdout",
     "output_type": "stream",
     "text": [
      "[[0 0]\n",
      " [0 1]\n",
      " [1 0]\n",
      " [1 1]]\n",
      "[[0]\n",
      " [1]\n",
      " [1]\n",
      " [0]]\n"
     ]
    }
   ],
   "source": [
    "XOR_table = XOR_table.values\n",
    "X = XOR_table[:, :2]\n",
    "targets = XOR_table[:, -1].reshape(-1, 1)\n",
    "\n",
    "print(X)  # Input data\n",
    "print(targets)  # Output targets"
   ]
  },
  {
   "cell_type": "markdown",
   "metadata": {
    "id": "USNeBLNoNAso"
   },
   "source": [
    "# Task 2"
   ]
  },
  {
   "cell_type": "code",
   "execution_count": 3,
   "metadata": {
    "id": "J7L0PtiRjNr5"
   },
   "outputs": [],
   "source": [
    "def XOR_training(X, t):  # X for inputs, t for targets\n",
    "\n",
    "    # Define dimensions on input, hidden and output layers\n",
    "    input_dim, hidden_dim, output_dim = 2, 3, 1\n",
    "\n",
    "    # Define learning rate\n",
    "    learning_rate = 0.1\n",
    "\n",
    "    # Define a hidden layer\n",
    "    W1 = np.random.uniform(size=(input_dim, hidden_dim))\n",
    "\n",
    "    # Define an output layer\n",
    "    W2 = np.random.uniform(size=(hidden_dim, output_dim))\n",
    "    # Define sigmoid activation function\n",
    "\n",
    "    def sigmoid(x):\n",
    "        return 1 / (1 + np.exp(-x))\n",
    "\n",
    "    loss = np.zeros(10000)\n",
    "    for i in range(10000):\n",
    "        # Forward pass: compute predicted y\n",
    "        z = sigmoid(X @ W1)\n",
    "        y = sigmoid(z @ W2)\n",
    "        # Compute and print L2-norm loss\n",
    "        loss[i] = (y - t).T @ (y - t)\n",
    "        # Backprop to compute gradients of w1 and w2 with respect to L2-norm loss\n",
    "        dw2 = 2 * z.T @ ((y - t) * y * (1 - y))\n",
    "        dw1 = 2 * X.T @ (((y - t) * y * (1 - y)) @ W2.T * z * (1 - z))\n",
    "\n",
    "        # Update weights\n",
    "        W1 = W1 - learning_rate * dw1\n",
    "        W2 = W2 - learning_rate * dw2\n",
    "\n",
    "    return y, W1, W2, loss  # return output, W1, W2, and loss"
   ]
  },
  {
   "cell_type": "code",
   "execution_count": 4,
   "metadata": {
    "colab": {
     "base_uri": "https://localhost:8080/",
     "height": 281
    },
    "id": "3Qz7zymxR4yy",
    "outputId": "e1bee197-ce25-4780-d075-f1b5e2cafa5b"
   },
   "outputs": [
    {
     "data": {
      "image/png": "[encoded data removed]",
      "text/plain": [
       "<Figure size 432x288 with 1 Axes>"
      ]
     },
     "metadata": {
      "needs_background": "light"
     },
     "output_type": "display_data"
    }
   ],
   "source": [
    "# train on the whole XOR truth table\n",
    "y, W1, W2, loss = XOR_training(X, targets)\n",
    "\n",
    "\n",
    "import matplotlib.pyplot as plt\n",
    "\n",
    "plt.figure(1)\n",
    "# show the 4 points with their output in scatter plot\n",
    "for i in range(len(X)):\n",
    "    plt.scatter(X[i, 0], X[i, 1], label=\"y = %0.3f\" % y[i])\n",
    "plt.title(\"4 outputs from XOR truth table\")\n",
    "plt.legend()\n",
    "plt.show()"
   ]
  },
  {
   "cell_type": "markdown",
   "metadata": {
    "id": "dTfY7KHHNFOs"
   },
   "source": [
    "# Task 3"
   ]
  },
  {
   "cell_type": "code",
   "execution_count": 5,
   "metadata": {
    "colab": {
     "base_uri": "https://localhost:8080/",
     "height": 295
    },
    "id": "tjz1LaSeSueb",
    "outputId": "3559f473-13bf-4369-ae02-40bef63276d5"
   },
   "outputs": [
    {
     "data": {
      "image/png": "[encoded data removed]",
      "text/plain": [
       "<Figure size 432x288 with 1 Axes>"
      ]
     },
     "metadata": {
      "needs_background": "light"
     },
     "output_type": "display_data"
    }
   ],
   "source": [
    "# show the loss function over iterations\n",
    "plt.figure(2)\n",
    "plt.plot(range(10000), loss[:10000])\n",
    "plt.xlabel(\"epochs\")\n",
    "plt.ylabel(\"loss function\")\n",
    "plt.title(\"loss function over epochs\")\n",
    "plt.show()"
   ]
  },
  {
   "cell_type": "markdown",
   "metadata": {
    "id": "A4_mGqy5vufq"
   },
   "source": [
    ">The loss function decreases rapidly at first, and then it remains constant for a while. After about 1500 iterations, it begins to decrease again (almost linearly), and finally suturates at loss=0 at the end of 10000 iterations"
   ]
  },
  {
   "cell_type": "markdown",
   "metadata": {
    "id": "MWCRPN1cNIdl"
   },
   "source": [
    "# Task 4"
   ]
  },
  {
   "cell_type": "code",
   "execution_count": 6,
   "metadata": {
    "colab": {
     "base_uri": "https://localhost:8080/",
     "height": 330
    },
    "id": "vbQ-ibM7NLZ-",
    "outputId": "de060729-4245-482e-983d-c10920fa45d8"
   },
   "outputs": [
    {
     "name": "stdout",
     "output_type": "stream",
     "text": [
      "MSE for train  0.0010884720416392815\n",
      "MSE for test  0.9641936505432193\n"
     ]
    },
    {
     "data": {
      "image/png": "[encoded data removed]",
      "text/plain": [
       "<Figure size 432x288 with 1 Axes>"
      ]
     },
     "metadata": {
      "needs_background": "light"
     },
     "output_type": "display_data"
    }
   ],
   "source": [
    "# split the train set by the first 3 pairs of XOR_truth table\n",
    "# use the last pair (1,1) for testing\n",
    "train_X = XOR_table[:3, :-1]\n",
    "train_Y = XOR_table[:3, -1].reshape(-1, 1)\n",
    "\n",
    "test_X = XOR_table[-1, :-1]\n",
    "test_Y = XOR_table[-1, -1]\n",
    "\n",
    "y, W1, W2, loss = XOR_training(train_X, train_Y)\n",
    "\n",
    "\n",
    "def sigmoid(x):\n",
    "    return 1 / (1 + np.exp(-x))\n",
    "\n",
    "\n",
    "MSE_train = 1 / 3 * np.linalg.norm(y - train_Y, 2) ** 2\n",
    "\n",
    "print(\"MSE for train \", MSE_train)\n",
    "\n",
    "predict_Y = sigmoid(sigmoid(test_X @ W1) @ W2)\n",
    "MSE_test = np.linalg.norm(predict_Y - test_Y, 2) ** 2\n",
    "\n",
    "print(\"MSE for test \", MSE_test)\n",
    "\n",
    "# show the loss function over iterations\n",
    "plt.figure(2)\n",
    "plt.plot(range(10000), loss[:10000])\n",
    "plt.xlabel(\"epochs\")\n",
    "plt.ylabel(\"loss function\")\n",
    "plt.title(\"loss function over epochs\")\n",
    "plt.show()"
   ]
  },
  {
   "cell_type": "markdown",
   "metadata": {
    "id": "9J9C8cfDVfsR"
   },
   "source": [
    "> The train MSE is low which is good. Our output is pretty close to the output from XOR_truth table. However, the test MSE is high and it fails on the pair (1,1) with exprected output 0. "
   ]
  },
  {
   "cell_type": "code",
   "execution_count": 7,
   "metadata": {
    "colab": {
     "base_uri": "https://localhost:8080/",
     "height": 281
    },
    "id": "uAuug35npQgD",
    "outputId": "4773d87d-2a69-4500-e4b3-5f2fb553dce3"
   },
   "outputs": [
    {
     "data": {
      "image/png": "[encoded data removed]",
      "text/plain": [
       "<Figure size 432x288 with 2 Axes>"
      ]
     },
     "metadata": {
      "needs_background": "light"
     },
     "output_type": "display_data"
    }
   ],
   "source": [
    "# generate 50*50 data points in [0,1]x[0,1]\n",
    "steps = 500\n",
    "\n",
    "x_span = np.linspace(0, 1, steps)\n",
    "y_span = np.linspace(0, 1, steps)\n",
    "\n",
    "xx, yy = np.meshgrid(x_span, y_span)\n",
    "\n",
    "# 50*50 pairs of different (x,y) for input\n",
    "X = np.c_[xx.ravel(), yy.ravel()]\n",
    "\n",
    "# print(X.shape)\n",
    "# print(X[:10,:])\n",
    "\n",
    "output = sigmoid(sigmoid(X @ W1) @ W2)\n",
    "\n",
    "output = output.reshape(steps, steps)\n",
    "# print(output.shape)\n",
    "plt.figure(3)\n",
    "plt.pcolor(xx, yy, output, cmap=\"binary\")\n",
    "plt.colorbar()\n",
    "plt.title(\"output mesh grid\")\n",
    "plt.show()"
   ]
  },
  {
   "cell_type": "markdown",
   "metadata": {
    "id": "LZ9y8i6LMNKs"
   },
   "source": [
    "> We can see that only around (0,0) the contour is bright (value=0), elsewhere it is pretty dark (value=1). This makes sense because we didn't train on the whole XOR table, a pair of (1,1) with output 0 was not trained. So what our neural network does is just linearly seperate the first 3 pairs. The MSE is high, meaning the error is big. But this also makes sense because we used the (1,1) pair for test, but our neural network can't recognize it.  "
   ]
  },
  {
   "cell_type": "markdown",
   "metadata": {
    "id": "Ym01HAoGXb08"
   },
   "source": [
    "# Task 5"
   ]
  },
  {
   "cell_type": "code",
   "execution_count": 9,
   "metadata": {
    "colab": {
     "base_uri": "https://localhost:8080/",
     "height": 269
    },
    "id": "HlbquL4PMS1p",
    "outputId": "403fed04-173c-4875-c637-cb7223d33895"
   },
   "outputs": [
    {
     "data": {
      "image/png": "[encoded data removed]",
      "text/plain": [
       "<Figure size 432x288 with 2 Axes>"
      ]
     },
     "metadata": {
      "needs_background": "light"
     },
     "output_type": "display_data"
    },
    {
     "name": "stderr",
     "output_type": "stream",
     "text": [
      "/tmp/ipykernel_905/2659891666.py:37: UserWarning: Matplotlib is currently using module://matplotlib_inline.backend_inline, which is a non-GUI backend, so cannot show the figure.\n",
      "  fig.show()\n"
     ]
    },
    {
     "data": {
      "image/png": "[encoded data removed]",
      "text/plain": [
       "<Figure size 432x288 with 1 Axes>"
      ]
     },
     "metadata": {
      "needs_background": "light"
     },
     "output_type": "display_data"
    }
   ],
   "source": [
    "X = XOR_table[:, :2]\n",
    "targets = XOR_table[:, -1].reshape(-1, 1)\n",
    "\n",
    "# train on the whole XOR truth table\n",
    "y, W1, W2, loss = XOR_training(X, targets)\n",
    "\n",
    "# generate 50*50 data points in [0,1]x[0,1]\n",
    "steps = 500\n",
    "\n",
    "x_span = np.linspace(0, 1, steps)\n",
    "y_span = np.linspace(0, 1, steps)\n",
    "\n",
    "xx, yy = np.meshgrid(x_span, y_span)\n",
    "\n",
    "# 50*50 pairs of different (x,y) for input\n",
    "X = np.c_[xx.ravel(), yy.ravel()]\n",
    "\n",
    "# print(X.shape)\n",
    "# print(X[:10,:])\n",
    "\n",
    "output = sigmoid(sigmoid(X @ W1) @ W2)\n",
    "\n",
    "output = output.reshape(steps, steps)\n",
    "\n",
    "plt.figure(3)\n",
    "plt.pcolor(xx, yy, output, cmap=\"binary\")\n",
    "plt.colorbar()\n",
    "plt.title(\"output mesh grid\")\n",
    "plt.show()\n",
    "\n",
    "# decision boundary for rounding output greater than 0.5 to 1, and less than 0.5 to 0\n",
    "labels = (output > 0.5).astype(int)\n",
    "fig, ax = plt.subplots()\n",
    "\n",
    "ax.contourf(xx, yy, labels, alpha=0.2)\n",
    "\n",
    "fig.show()"
   ]
  },
  {
   "cell_type": "markdown",
   "metadata": {
    "id": "wLR2DlXaY3o2"
   },
   "source": [
    "Here we can see two pink regions ('0's). The rest is yellow ('1's). So any pairs around (0,0) and (1,1) are identified as 0."
   ]
  },
  {
   "cell_type": "code",
   "execution_count": 10,
   "metadata": {
    "colab": {
     "base_uri": "https://localhost:8080/",
     "height": 269
    },
    "id": "Jzj2u8KaaVOO",
    "outputId": "0a3594d0-a15c-4ebb-b98f-532414644b7e"
   },
   "outputs": [
    {
     "name": "stderr",
     "output_type": "stream",
     "text": [
      "/tmp/ipykernel_905/1590556948.py:7: UserWarning: Matplotlib is currently using module://matplotlib_inline.backend_inline, which is a non-GUI backend, so cannot show the figure.\n",
      "  fig.show()\n"
     ]
    },
    {
     "data": {
      "image/png": "[encoded data removed]",
      "text/plain": [
       "<Figure size 432x288 with 1 Axes>"
      ]
     },
     "metadata": {
      "needs_background": "light"
     },
     "output_type": "display_data"
    }
   ],
   "source": [
    "# decision boundary for rounding output greater than 0.7 to 1, and less than 0.7 to 0\n",
    "labels = (output > 0.7).astype(int)\n",
    "fig, ax = plt.subplots()\n",
    "\n",
    "ax.contourf(xx, yy, labels, alpha=0.2)\n",
    "\n",
    "fig.show()"
   ]
  },
  {
   "cell_type": "markdown",
   "metadata": {
    "id": "RVBYbgDzY22e"
   },
   "source": [
    "Here we can see a boundary such that points around (0,0) and (1,1) are identified as pink region ('0's) and points close to the diagonal line between (0,0) and (1,1) are yellow. It looks like diagonal since on the diagonal the pairs have equal value, so XOR value would be 0. "
   ]
  },
  {
   "cell_type": "code",
   "execution_count": null,
   "metadata": {
    "id": "iuvf9hwvZ1xK"
   },
   "outputs": [],
   "source": [
    "#!pip install black[jupyter]\n",
    "#!black /content/drive/MyDrive/Colab\\ Notebooks/amath\\ 563/labs/1/Lab1.ipynb"
   ]
  }
 ],
 "metadata": {
  "colab": {
   "collapsed_sections": [],
   "name": "Lab1.ipynb",
   "provenance": []
  },
  "kernelspec": {
   "display_name": "Python 3 (ipykernel)",
   "language": "python",
   "name": "python3"
  },
  "language_info": {
   "codemirror_mode": {
    "name": "ipython",
    "version": 3
   },
   "file_extension": ".py",
   "mimetype": "text/x-python",
   "name": "python",
   "nbconvert_exporter": "python",
   "pygments_lexer": "ipython3",
   "version": "3.8.8"
  },
  "latex_envs": {
   "LaTeX_envs_menu_present": true,
   "autoclose": true,
   "autocomplete": false,
   "bibliofile": "biblio.bib",
   "cite_by": "apalike",
   "current_citInitial": 1,
   "eqLabelWithNumbers": false,
   "eqNumInitial": 1,
   "hotkeys": {
    "equation": "Ctrl-E",
    "itemize": "Ctrl-I"
   },
   "labels_anchors": false,
   "latex_user_defs": false,
   "report_style_numbering": false,
   "user_envs_cfg": false
  },
  "toc": {
   "base_numbering": 1,
   "nav_menu": {},
   "number_sections": true,
   "sideBar": true,
   "skip_h1_title": false,
   "title_cell": "Table of Contents",
   "title_sidebar": "Contents",
   "toc_cell": false,
   "toc_position": {},
   "toc_section_display": true,
   "toc_window_display": false
  },
  "varInspector": {
   "cols": {
    "lenName": 16,
    "lenType": 16,
    "lenVar": 40
   },
   "kernels_config": {
    "python": {
     "delete_cmd_postfix": "",
     "delete_cmd_prefix": "del ",
     "library": "var_list.py",
     "varRefreshCmd": "print(var_dic_list())"
    },
    "r": {
     "delete_cmd_postfix": ") ",
     "delete_cmd_prefix": "rm(",
     "library": "var_list.r",
     "varRefreshCmd": "cat(var_dic_list()) "
    }
   },
   "types_to_exclude": [
    "module",
    "function",
    "builtin_function_or_method",
    "instance",
    "_Feature"
   ],
   "window_display": false
  }
 },
 "nbformat": 4,
 "nbformat_minor": 1
}

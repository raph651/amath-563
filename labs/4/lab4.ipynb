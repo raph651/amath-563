{
 "cells": [
  {
   "cell_type": "markdown",
   "metadata": {
    "id": "7KixHYy9Y5Tu"
   },
   "source": [
    "# Lab 4: Convolutional Neural Nets (CNNs)"
   ]
  },
  {
   "cell_type": "markdown",
   "metadata": {
    "id": "XaRkxg62ZH3e"
   },
   "source": [
    "## Assignment: LeNet5 Implementation"
   ]
  },
  {
   "cell_type": "markdown",
   "metadata": {
    "id": "fk0egLDwv_Po"
   },
   "source": [
    "This LeNet5 implementation used Tanh as activation function and Adam as optimizer. The parameters used were the following:\n",
    "* learning rate = 0.001\n",
    "* Batch size = 150\n",
    "* Epoch number = 3\n",
    "* regularization with weight decaying factor = 1e-6\n",
    "* 2 convolutional layers, 2 maxpool layers, and 1 fully connected layer, output layer - softmax\n"
   ]
  },
  {
   "cell_type": "code",
   "execution_count": null,
   "metadata": {
    "id": "_LFjOqAYHhvy"
   },
   "outputs": [],
   "source": [
    "import torch\n",
    "import torchvision\n",
    "from torch import nn\n",
    "import torch.nn.functional as F\n",
    "from torchvision import transforms\n",
    "\n",
    "\n",
    "train_batch_size = 150  # Define train batch size\n",
    "test_batch_size = 150  # Define test batch size (can be larger than train batch size)\n",
    "\n",
    "\n",
    "# Use the following code to load and normalize the dataset\n",
    "train_loader = torch.utils.data.DataLoader(\n",
    "    torchvision.datasets.MNIST(\n",
    "        \"/files/\",\n",
    "        train=True,\n",
    "        download=True,\n",
    "        transform=torchvision.transforms.Compose(\n",
    "            [\n",
    "                torchvision.transforms.ToTensor(),\n",
    "                torchvision.transforms.Normalize((0.5,), (0.5,)),\n",
    "            ]\n",
    "        ),\n",
    "    ),\n",
    "    batch_size=train_batch_size,\n",
    "    shuffle=True,\n",
    ")\n",
    "\n",
    "test_loader = torch.utils.data.DataLoader(\n",
    "    torchvision.datasets.MNIST(\n",
    "        \"/files/\",\n",
    "        train=False,\n",
    "        download=True,\n",
    "        transform=torchvision.transforms.Compose(\n",
    "            [\n",
    "                torchvision.transforms.ToTensor(),\n",
    "                torchvision.transforms.Normalize((0.5,), (0.5,)),\n",
    "            ]\n",
    "        ),\n",
    "    ),\n",
    "    batch_size=test_batch_size,\n",
    "    shuffle=True,\n",
    ")"
   ]
  },
  {
   "cell_type": "code",
   "execution_count": null,
   "metadata": {
    "id": "4O7KPNtHpnSx"
   },
   "outputs": [],
   "source": [
    "class LeNet5(nn.Module):\n",
    "    def __init__(self, n_classes):\n",
    "        super(LeNet5, self).__init__()\n",
    "        # Convolution 1\n",
    "        self.cov1 = nn.Conv2d(\n",
    "            in_channels=1, out_channels=16, kernel_size=3, stride=1, padding=0\n",
    "        )\n",
    "        self.act1 = nn.Tanh()\n",
    "\n",
    "        # Maxpool 1\n",
    "        self.maxpool1 = nn.MaxPool2d(kernel_size=2, stride=2)\n",
    "\n",
    "        # Convolution 2\n",
    "\n",
    "        self.cov2 = nn.Conv2d(\n",
    "            in_channels=16, out_channels=24, kernel_size=4, stride=1, padding=0\n",
    "        )\n",
    "        self.act2 = nn.Tanh()\n",
    "\n",
    "        # Maxpool 2\n",
    "        self.maxpool2 = nn.MaxPool2d(kernel_size=2, stride=2)\n",
    "\n",
    "        # Fully connected 1\n",
    "        self.fc1 = nn.Linear(5 * 5 * 24, 10)\n",
    "\n",
    "        # define LeNet5\n",
    "\n",
    "    def forward(self, x):\n",
    "        # Define forward pass\n",
    "        # n x 1 x 28 x 28\n",
    "        out = self.cov1(x)  # n x 16 x 26 x 26\n",
    "        out = self.act1(out)\n",
    "\n",
    "        out = self.maxpool1(out)  # n x 16 x 13 x 13\n",
    "\n",
    "        out = self.cov2(out)  # n x 24 x 10 x 10\n",
    "        out = self.act2(out)\n",
    "\n",
    "        out = self.maxpool2(out)  # n x 24 x 5 x 5\n",
    "\n",
    "        out = out.view(out.size(0), -1)\n",
    "        out = self.fc1(out)  # n x 1 x 600\n",
    "\n",
    "        m = nn.Softmax(dim=1)  # n x 10\n",
    "        logits = m(out)\n",
    "        return logits  # can also return probabilities\n",
    "        # by performing softmax"
   ]
  },
  {
   "cell_type": "code",
   "execution_count": null,
   "metadata": {
    "colab": {
     "base_uri": "https://localhost:8080/"
    },
    "id": "OP8Sz4kXvNev",
    "outputId": "464b8bd6-c696-4b65-973d-993b05093b97"
   },
   "outputs": [
    {
     "name": "stderr",
     "output_type": "stream",
     "text": [
      "\r",
      "  0%|          | 0/3 [00:00<?, ?it/s]"
     ]
    },
    {
     "name": "stdout",
     "output_type": "stream",
     "text": [
      "Train Epoch: 1 [0/60000 (0%)]\tLoss: 2.303127\n",
      "Validation set: number of correct labels: 1376/10000 accuracy: (14%)\n",
      "\n",
      "Train Epoch: 1 [7500/60000 (12%)]\tLoss: 1.699574\n",
      "Validation set: number of correct labels: 8516/10000 accuracy: (85%)\n",
      "\n",
      "Train Epoch: 1 [15000/60000 (25%)]\tLoss: 1.605340\n",
      "Validation set: number of correct labels: 9102/10000 accuracy: (91%)\n",
      "\n",
      "Train Epoch: 1 [22500/60000 (38%)]\tLoss: 1.573040\n",
      "Validation set: number of correct labels: 9307/10000 accuracy: (93%)\n",
      "\n",
      "Train Epoch: 1 [30000/60000 (50%)]\tLoss: 1.533985\n",
      "Validation set: number of correct labels: 9430/10000 accuracy: (94%)\n",
      "\n",
      "Train Epoch: 1 [37500/60000 (62%)]\tLoss: 1.548530\n",
      "Validation set: number of correct labels: 9493/10000 accuracy: (95%)\n",
      "\n",
      "Train Epoch: 1 [45000/60000 (75%)]\tLoss: 1.535510\n",
      "Validation set: number of correct labels: 9569/10000 accuracy: (96%)\n",
      "\n",
      "Train Epoch: 1 [52500/60000 (88%)]\tLoss: 1.504873\n",
      "Validation set: number of correct labels: 9596/10000 accuracy: (96%)\n",
      "\n"
     ]
    },
    {
     "name": "stderr",
     "output_type": "stream",
     "text": [
      "\r",
      " 33%|███▎      | 1/3 [00:56<01:52, 56.00s/it]"
     ]
    },
    {
     "name": "stdout",
     "output_type": "stream",
     "text": [
      "Train Epoch: 2 [0/60000 (0%)]\tLoss: 1.535938\n",
      "Validation set: number of correct labels: 9644/10000 accuracy: (96%)\n",
      "\n",
      "Train Epoch: 2 [7500/60000 (12%)]\tLoss: 1.522160\n",
      "Validation set: number of correct labels: 9658/10000 accuracy: (97%)\n",
      "\n",
      "Train Epoch: 2 [15000/60000 (25%)]\tLoss: 1.503143\n",
      "Validation set: number of correct labels: 9680/10000 accuracy: (97%)\n",
      "\n",
      "Train Epoch: 2 [22500/60000 (38%)]\tLoss: 1.526679\n",
      "Validation set: number of correct labels: 9683/10000 accuracy: (97%)\n",
      "\n",
      "Train Epoch: 2 [30000/60000 (50%)]\tLoss: 1.501483\n",
      "Validation set: number of correct labels: 9705/10000 accuracy: (97%)\n",
      "\n",
      "Train Epoch: 2 [37500/60000 (62%)]\tLoss: 1.482056\n",
      "Validation set: number of correct labels: 9711/10000 accuracy: (97%)\n",
      "\n",
      "Train Epoch: 2 [45000/60000 (75%)]\tLoss: 1.500199\n",
      "Validation set: number of correct labels: 9728/10000 accuracy: (97%)\n",
      "\n",
      "Train Epoch: 2 [52500/60000 (88%)]\tLoss: 1.507357\n",
      "Validation set: number of correct labels: 9742/10000 accuracy: (97%)\n",
      "\n"
     ]
    },
    {
     "name": "stderr",
     "output_type": "stream",
     "text": [
      "\r",
      " 67%|██████▋   | 2/3 [01:48<00:54, 54.15s/it]"
     ]
    },
    {
     "name": "stdout",
     "output_type": "stream",
     "text": [
      "Train Epoch: 3 [0/60000 (0%)]\tLoss: 1.490833\n",
      "Validation set: number of correct labels: 9757/10000 accuracy: (98%)\n",
      "\n",
      "Train Epoch: 3 [7500/60000 (12%)]\tLoss: 1.505858\n",
      "Validation set: number of correct labels: 9769/10000 accuracy: (98%)\n",
      "\n",
      "Train Epoch: 3 [15000/60000 (25%)]\tLoss: 1.509428\n",
      "Validation set: number of correct labels: 9769/10000 accuracy: (98%)\n",
      "\n",
      "Train Epoch: 3 [22500/60000 (38%)]\tLoss: 1.482791\n",
      "Validation set: number of correct labels: 9787/10000 accuracy: (98%)\n",
      "\n",
      "Train Epoch: 3 [30000/60000 (50%)]\tLoss: 1.508610\n",
      "Validation set: number of correct labels: 9794/10000 accuracy: (98%)\n",
      "\n",
      "Train Epoch: 3 [37500/60000 (62%)]\tLoss: 1.491724\n",
      "Validation set: number of correct labels: 9795/10000 accuracy: (98%)\n",
      "\n",
      "Train Epoch: 3 [45000/60000 (75%)]\tLoss: 1.488782\n",
      "Validation set: number of correct labels: 9791/10000 accuracy: (98%)\n",
      "\n",
      "Train Epoch: 3 [52500/60000 (88%)]\tLoss: 1.475020\n",
      "Validation set: number of correct labels: 9785/10000 accuracy: (98%)\n",
      "\n"
     ]
    },
    {
     "name": "stderr",
     "output_type": "stream",
     "text": [
      "100%|██████████| 3/3 [02:44<00:00, 54.90s/it]\n"
     ]
    }
   ],
   "source": [
    "import numpy as np\n",
    "import tqdm\n",
    "\n",
    "# initialize the number of classes for output\n",
    "model = LeNet5(10)\n",
    "\n",
    "# define Adam optimizer with learning rate 0.001, and L2 regularization factor 1e-6\n",
    "optimizer = torch.optim.Adam(model.parameters(), lr=0.001, weight_decay=1e-6)\n",
    "\n",
    "epochs = 3\n",
    "\n",
    "loss_fn = nn.CrossEntropyLoss()\n",
    "\n",
    "# every 50 iterations for log\n",
    "log_interval = 50\n",
    "\n",
    "loss_list = []\n",
    "iteration_list = []\n",
    "accuracy_list = []\n",
    "count = 0\n",
    "\n",
    "for epoch in tqdm.trange(epochs):\n",
    "    for idx, (data, labels) in enumerate(train_loader):\n",
    "\n",
    "        # Calculate training loss on model\n",
    "        pred_y = model(data)\n",
    "        loss = loss_fn(pred_y, labels)\n",
    "\n",
    "        # zeros gradients\n",
    "        optimizer.zero_grad()\n",
    "        loss.backward()\n",
    "        optimizer.step()\n",
    "\n",
    "        # save loss and accuracy for every 50 iterations\n",
    "        if idx % log_interval == 0:\n",
    "            print(\n",
    "                \"Train Epoch: {} [{}/{} ({:.0f}%)]\\tLoss: {:.6f}\".format(\n",
    "                    epoch + 1,\n",
    "                    idx * len(data),\n",
    "                    len(train_loader.dataset),\n",
    "                    100.0 * idx / len(train_loader),\n",
    "                    loss.item(),\n",
    "                )\n",
    "            )\n",
    "            loss_list.append(loss.item())\n",
    "            count += log_interval\n",
    "            iteration_list.append(count)\n",
    "\n",
    "            # calculate validation accuracy\n",
    "            with torch.no_grad():\n",
    "                n_sample = len(test_loader.dataset)\n",
    "                n_correct = 0\n",
    "                for idxx, (data, labels) in enumerate(test_loader):\n",
    "                    pred_y = model(data)\n",
    "                    n_correct += sum(\n",
    "                        (torch.argmax(pred_y, dim=1) == labels).type(torch.FloatTensor)\n",
    "                    )\n",
    "                accuracy_list.append(100.0 * n_correct / n_sample)\n",
    "                print(\n",
    "                    \"Validation set: number of correct labels: {}/{} accuracy: ({:.0f}%)\\n\".format(\n",
    "                        int(n_correct), n_sample, 100.0 * n_correct / n_sample\n",
    "                    )\n",
    "                )"
   ]
  },
  {
   "cell_type": "code",
   "execution_count": null,
   "metadata": {
    "colab": {
     "base_uri": "https://localhost:8080/",
     "height": 573
    },
    "id": "16UxX21EiOMw",
    "outputId": "2fde94b2-a918-482c-c27b-644a543e6e93"
   },
   "outputs": [
    {
     "data": {
      "image/png": "[encoded data removed]",
      "text/plain": [
       "<Figure size 432x288 with 1 Axes>"
      ]
     },
     "metadata": {
      "needs_background": "light"
     },
     "output_type": "display_data"
    },
    {
     "data": {
      "image/png": "[encoded data removed]",
      "text/plain": [
       "<Figure size 432x288 with 1 Axes>"
      ]
     },
     "metadata": {
      "needs_background": "light"
     },
     "output_type": "display_data"
    }
   ],
   "source": [
    "import matplotlib.pyplot as plt\n",
    "\n",
    "# visualization loss\n",
    "plt.plot(iteration_list, loss_list)\n",
    "plt.xlabel(\"Number of iteration\")\n",
    "plt.ylabel(\"Loss\")\n",
    "plt.title(\"CNN: Loss vs Number of iteration\")\n",
    "plt.show()\n",
    "\n",
    "# visualization accuracy\n",
    "plt.plot(iteration_list, accuracy_list, color=\"red\")\n",
    "plt.xlabel(\"Number of iteration\")\n",
    "plt.ylabel(\"Accuracy\")\n",
    "plt.title(\"CNN: Accuracy vs Number of iteration\")\n",
    "plt.show()"
   ]
  },
  {
   "cell_type": "code",
   "execution_count": null,
   "metadata": {
    "id": "rngNKyOV1IK_"
   },
   "outputs": [],
   "source": [
    "# get the first 10 test images and predict their labels\n",
    "with torch.no_grad():\n",
    "    transform = transforms.Compose(\n",
    "        [\n",
    "            transforms.ToTensor(),\n",
    "            transforms.Normalize((0.5,), (0.5,)),\n",
    "        ]\n",
    "    )\n",
    "    test_10 = test_loader.dataset.data[:10].numpy()\n",
    "    np_test_10 = np.moveaxis(test_10, 0, -1)\n",
    "    images = transform(np_test_10)[:10, None, :, :]\n",
    "\n",
    "    pred_y = model(images)"
   ]
  },
  {
   "cell_type": "code",
   "execution_count": null,
   "metadata": {
    "colab": {
     "base_uri": "https://localhost:8080/",
     "height": 492
    },
    "id": "v4VHhG3YOcCN",
    "outputId": "f9fb5939-9952-42d0-9ed1-49b12e4a9b3c"
   },
   "outputs": [
    {
     "name": "stdout",
     "output_type": "stream",
     "text": [
      "Probabilties:\n",
      " '0'-0.000 ; '1'-0.000 ; '2'-0.000 ; '3'-0.000 ; '4'-0.000 ; '5'-0.000 ; '6'-0.000 ; '7'-1.000 ; '8'-0.000 ; '9'-0.000 ;\n",
      "Probabilties:\n",
      " '0'-0.000 ; '1'-0.000 ; '2'-1.000 ; '3'-0.000 ; '4'-0.000 ; '5'-0.000 ; '6'-0.000 ; '7'-0.000 ; '8'-0.000 ; '9'-0.000 ;\n",
      "Probabilties:\n",
      " '0'-0.000 ; '1'-0.999 ; '2'-0.000 ; '3'-0.000 ; '4'-0.000 ; '5'-0.000 ; '6'-0.000 ; '7'-0.000 ; '8'-0.000 ; '9'-0.000 ;\n",
      "Probabilties:\n",
      " '0'-1.000 ; '1'-0.000 ; '2'-0.000 ; '3'-0.000 ; '4'-0.000 ; '5'-0.000 ; '6'-0.000 ; '7'-0.000 ; '8'-0.000 ; '9'-0.000 ;\n",
      "Probabilties:\n",
      " '0'-0.000 ; '1'-0.000 ; '2'-0.000 ; '3'-0.000 ; '4'-1.000 ; '5'-0.000 ; '6'-0.000 ; '7'-0.000 ; '8'-0.000 ; '9'-0.000 ;\n",
      "Probabilties:\n",
      " '0'-0.000 ; '1'-0.999 ; '2'-0.000 ; '3'-0.000 ; '4'-0.000 ; '5'-0.000 ; '6'-0.000 ; '7'-0.001 ; '8'-0.000 ; '9'-0.000 ;\n",
      "Probabilties:\n",
      " '0'-0.000 ; '1'-0.000 ; '2'-0.000 ; '3'-0.000 ; '4'-1.000 ; '5'-0.000 ; '6'-0.000 ; '7'-0.000 ; '8'-0.000 ; '9'-0.000 ;\n",
      "Probabilties:\n",
      " '0'-0.000 ; '1'-0.000 ; '2'-0.000 ; '3'-0.000 ; '4'-0.001 ; '5'-0.000 ; '6'-0.000 ; '7'-0.000 ; '8'-0.002 ; '9'-0.997 ;\n",
      "Probabilties:\n",
      " '0'-0.000 ; '1'-0.000 ; '2'-0.000 ; '3'-0.000 ; '4'-0.000 ; '5'-0.936 ; '6'-0.063 ; '7'-0.000 ; '8'-0.000 ; '9'-0.000 ;\n",
      "Probabilties:\n",
      " '0'-0.000 ; '1'-0.000 ; '2'-0.000 ; '3'-0.000 ; '4'-0.000 ; '5'-0.000 ; '6'-0.000 ; '7'-0.003 ; '8'-0.000 ; '9'-0.997 ;\n"
     ]
    },
    {
     "data": {
      "image/png": "[encoded data removed]",
      "text/plain": [
       "<Figure size 1440x1440 with 10 Axes>"
      ]
     },
     "metadata": {
      "needs_background": "light"
     },
     "output_type": "display_data"
    }
   ],
   "source": [
    "# plot the 10 test images, show their probabilities\n",
    "fig, ax = plt.subplots(1, 10, figsize=(20, 20))\n",
    "for i in range(10):\n",
    "    ax[i].imshow(test_10[i], cmap=\"gray\")\n",
    "    print(\n",
    "        \"Probabilties:\\n '0'-{:.3f} ; '1'-{:.3f} ; '2'-{:.3f} ; '3'-{:.3f} ; '4'-{:.3f} ; '5'-{:.3f} ; '6'-{:.3f} ; '7'-{:.3f} ; '8'-{:.3f} ; '9'-{:.3f} ;\".format(\n",
    "            *[j.item() for j in pred_y[i]]\n",
    "        )\n",
    "    )"
   ]
  },
  {
   "cell_type": "code",
   "execution_count": null,
   "metadata": {
    "colab": {
     "base_uri": "https://localhost:8080/"
    },
    "id": "q-UPR6h7Vs1X",
    "outputId": "661610c8-9663-4c6d-8b25-d3d158f8331f"
   },
   "outputs": [
    {
     "name": "stdout",
     "output_type": "stream",
     "text": [
      "Drive already mounted at /content/drive; to attempt to forcibly remount, call drive.mount(\"/content/drive\", force_remount=True).\n"
     ]
    }
   ],
   "source": [
    "#from google.colab import drive\n",
    "#\n",
    "#drive.mount(\"/content/drive\")\n",
    "#!pip install black[jupyter]\n",
    "#!black /content/drive/MyDrive/Colab\\ Notebooks/amath\\ 563/labs/4/lab4.ipynb"
   ]
  }
 ],
 "metadata": {
  "colab": {
   "collapsed_sections": [],
   "name": "lab4.ipynb",
   "provenance": []
  },
  "kernelspec": {
   "display_name": "Python 3 (ipykernel)",
   "language": "python",
   "name": "python3"
  },
  "language_info": {
   "codemirror_mode": {
    "name": "ipython",
    "version": 3
   },
   "file_extension": ".py",
   "mimetype": "text/x-python",
   "name": "python",
   "nbconvert_exporter": "python",
   "pygments_lexer": "ipython3",
   "version": "3.8.8"
  },
  "latex_envs": {
   "LaTeX_envs_menu_present": true,
   "autoclose": true,
   "autocomplete": false,
   "bibliofile": "biblio.bib",
   "cite_by": "apalike",
   "current_citInitial": 1,
   "eqLabelWithNumbers": false,
   "eqNumInitial": 1,
   "hotkeys": {
    "equation": "Ctrl-E",
    "itemize": "Ctrl-I"
   },
   "labels_anchors": false,
   "latex_user_defs": false,
   "report_style_numbering": false,
   "user_envs_cfg": false
  },
  "toc": {
   "base_numbering": 1,
   "nav_menu": {},
   "number_sections": true,
   "sideBar": true,
   "skip_h1_title": false,
   "title_cell": "Table of Contents",
   "title_sidebar": "Contents",
   "toc_cell": false,
   "toc_position": {},
   "toc_section_display": true,
   "toc_window_display": false
  },
  "varInspector": {
   "cols": {
    "lenName": 16,
    "lenType": 16,
    "lenVar": 40
   },
   "kernels_config": {
    "python": {
     "delete_cmd_postfix": "",
     "delete_cmd_prefix": "del ",
     "library": "var_list.py",
     "varRefreshCmd": "print(var_dic_list())"
    },
    "r": {
     "delete_cmd_postfix": ") ",
     "delete_cmd_prefix": "rm(",
     "library": "var_list.r",
     "varRefreshCmd": "cat(var_dic_list()) "
    }
   },
   "types_to_exclude": [
    "module",
    "function",
    "builtin_function_or_method",
    "instance",
    "_Feature"
   ],
   "window_display": false
  }
 },
 "nbformat": 4,
 "nbformat_minor": 1
}

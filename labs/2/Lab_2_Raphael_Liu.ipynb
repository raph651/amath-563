{
  "cells": [
    {
      "cell_type": "markdown",
      "metadata": {
        "id": "YkXyuplZp4aQ"
      },
      "source": [
        "# Lab 2: PyTorch Basics"
      ]
    },
    {
      "cell_type": "code",
      "execution_count": null,
      "metadata": {
        "id": "p5dL4YeVorzV"
      },
      "outputs": [],
      "source": [
        "import torch\n",
        "import numpy as np"
      ]
    },
    {
      "cell_type": "markdown",
      "metadata": {
        "id": "EM6GQLv6j5uH"
      },
      "source": [
        "## Part 1: Tensors"
      ]
    },
    {
      "cell_type": "markdown",
      "metadata": {
        "id": "w-ULM1BdkBMt"
      },
      "source": [
        "Tensors operate much like numpy arrays, but have additional properties which allow them to be used more easily in machine learning, such as being compatible with GPUs and other hardware accelerators and being optimized for automatic differentiation."
      ]
    },
    {
      "cell_type": "markdown",
      "metadata": {
        "id": "rDar-UyQmRXX"
      },
      "source": [
        "### Tensor Attributes"
      ]
    },
    {
      "cell_type": "markdown",
      "metadata": {
        "id": "WUCv1fUWnCOP"
      },
      "source": [
        "**Shape**: A tuple (n1, n2, ... nd) indicating the dimesions of the Tensor. To refer to a particular dimension, use `dim`, (instead of `axis` for `np.array`).\n",
        "\n",
        "\n",
        "**Datatype**: Form of the data stored in the Tensor. Common datatypes include `torch.float`, `torch.long`, `torch.bool`. See https://pytorch.org/docs/stable/tensors.html for full list.\n",
        "\n",
        "**Device**: Default device is `torch.device('cpu')`. If you want to use your GPU, be sure that your PyTorch installation has CUDA compatibility. If you have a GPU available, you can set the device to `torch.device('cuda')`\n",
        "\n",
        "*Note*: If you have more than 1 GPU available, you can choose which gpu you would like to use by providing a device index. For example, `torch.device('cuda:0')` or `torch.device('cuda', index= 0)`"
      ]
    },
    {
      "cell_type": "code",
      "execution_count": null,
      "metadata": {
        "colab": {
          "base_uri": "https://localhost:8080/"
        },
        "id": "mOOErpWtnMtk",
        "outputId": "af7eb568-e166-4d30-cb9c-543edea25a49"
      },
      "outputs": [
        {
          "name": "stdout",
          "output_type": "stream",
          "text": [
            "Shape of tensor: torch.Size([3, 4])\n",
            "Datatype of tensor: torch.float32\n",
            "Device tensor is stored on: cpu\n"
          ]
        }
      ],
      "source": [
        "tensor = torch.rand(3, 4)\n",
        "\n",
        "print(f\"Shape of tensor: {tensor.shape}\")\n",
        "print(f\"Datatype of tensor: {tensor.dtype}\")\n",
        "print(f\"Device tensor is stored on: {tensor.device}\")"
      ]
    },
    {
      "cell_type": "code",
      "execution_count": null,
      "metadata": {
        "id": "-AepGMJADF4M"
      },
      "outputs": [],
      "source": [
        "torch.cuda.set_device(\"cuda:0\")"
      ]
    },
    {
      "cell_type": "code",
      "execution_count": null,
      "metadata": {
        "id": "LdsE0bOIDF4N",
        "outputId": "0ebf43b1-4b6e-4e2d-d3ac-33904cf9dc6e"
      },
      "outputs": [
        {
          "data": {
            "text/plain": [
              "device(type='cuda')"
            ]
          },
          "execution_count": 38,
          "metadata": {},
          "output_type": "execute_result"
        }
      ],
      "source": [
        "torch.device(\"cuda\")"
      ]
    },
    {
      "cell_type": "markdown",
      "metadata": {
        "id": "RcOH3zDFlp4V"
      },
      "source": [
        "### Tensor Initialization\n",
        "\n",
        "Like numpy arrays, Tensors can be initialized directly from data (in the form of a list or numpy array), or from random or constant values.\n",
        "\n",
        "Tensors can also be converted into numpy arrays using `numpy()`. To do this, the Tensor must have its device set to `cpu`, or it will cause an error. You can easily move a Tensor to the cpu using `cpu()`. Similarly, you can move a Tensor to the GPU using `cuda()`."
      ]
    },
    {
      "cell_type": "code",
      "execution_count": null,
      "metadata": {
        "colab": {
          "base_uri": "https://localhost:8080/"
        },
        "id": "CZ2lCpkhkP0J",
        "outputId": "0d295025-4f0b-4be0-98c2-6efa1b96c155"
      },
      "outputs": [
        {
          "name": "stdout",
          "output_type": "stream",
          "text": [
            "Ones Tensor: \n",
            " tensor([[1, 1],\n",
            "        [1, 1]]) \n",
            "\n",
            "Random Tensor: \n",
            " tensor([[0.4741, 0.8920],\n",
            "        [0.7510, 0.9823]]) \n",
            "\n"
          ]
        }
      ],
      "source": [
        "# From data\n",
        "data = [[1, 2], [3, 4]]\n",
        "x_data = torch.tensor(data)\n",
        "\n",
        "# From Numpy Array\n",
        "np_array = np.array(data)\n",
        "x_np = torch.from_numpy(np_array)\n",
        "\n",
        "# From anaother tensor\n",
        "x_ones = torch.ones_like(x_data)  # retains the properties of x_data\n",
        "print(f\"Ones Tensor: \\n {x_ones} \\n\")\n",
        "\n",
        "x_rand = torch.rand_like(x_data, dtype=torch.float)  # overrides the datatype of x_data\n",
        "print(f\"Random Tensor: \\n {x_rand} \\n\")\n",
        "\n",
        "x_np = x_rand.cpu().numpy()  # Move tensor to the cpu and then convert to numpy array"
      ]
    },
    {
      "cell_type": "code",
      "execution_count": null,
      "metadata": {
        "colab": {
          "base_uri": "https://localhost:8080/"
        },
        "id": "_8vBJVhdku_N",
        "outputId": "abafcfd5-e3ee-4d21-b63e-5408f8a5a0a8"
      },
      "outputs": [
        {
          "name": "stdout",
          "output_type": "stream",
          "text": [
            "Random Tensor: \n",
            " tensor([[0.9414, 0.4300, 0.6153],\n",
            "        [0.1590, 0.5736, 0.0479]]) \n",
            "\n",
            "Ones Tensor: \n",
            " tensor([[1., 1., 1.],\n",
            "        [1., 1., 1.]]) \n",
            "\n",
            "Zeros Tensor: \n",
            " tensor([[0., 0., 0.],\n",
            "        [0., 0., 0.]])\n"
          ]
        }
      ],
      "source": [
        "# Random and constant values\n",
        "shape = (\n",
        "    2,\n",
        "    3,\n",
        ")\n",
        "rand_tensor = torch.rand(shape)\n",
        "ones_tensor = torch.ones(shape)\n",
        "zeros_tensor = torch.zeros(shape)\n",
        "\n",
        "print(f\"Random Tensor: \\n {rand_tensor} \\n\")\n",
        "print(f\"Ones Tensor: \\n {ones_tensor} \\n\")\n",
        "print(f\"Zeros Tensor: \\n {zeros_tensor}\")"
      ]
    },
    {
      "cell_type": "markdown",
      "metadata": {
        "id": "ACK_7S2ypHne"
      },
      "source": [
        "### Tensor Operations"
      ]
    },
    {
      "cell_type": "markdown",
      "metadata": {
        "id": "jRV947xEpc40"
      },
      "source": [
        "Many of the artihmetic operations for Tensors are equivalent to those for numpy arrays, such as:\n",
        "<ul>\n",
        "<li>Indexing</li>\n",
        "<li>Slicing</li>\n",
        "<li>Matrix Multiplication (`@` or `tensor.matmul` )</li>\n",
        "<li>Elementwise Multiplication (`*` or `tensor.mul`)</li>\n",
        "<li>Addition and Subtraction</li>\n",
        "</ul>\n",
        "\n",
        "To concatenate two Tensors, the you use `torch.cat`, which is similar to `np.concatenate`."
      ]
    },
    {
      "cell_type": "code",
      "execution_count": null,
      "metadata": {
        "colab": {
          "base_uri": "https://localhost:8080/"
        },
        "id": "x-BaS_mqpRyK",
        "outputId": "3fc92d18-931b-41a5-804b-22123f8e9d01"
      },
      "outputs": [
        {
          "name": "stdout",
          "output_type": "stream",
          "text": [
            "tensor([[1., 1., 1., 1., 1., 1., 1., 1., 1., 1., 1., 1.],\n",
            "        [1., 1., 1., 1., 1., 1., 1., 1., 1., 1., 1., 1.],\n",
            "        [1., 1., 1., 1., 1., 1., 1., 1., 1., 1., 1., 1.],\n",
            "        [1., 1., 1., 1., 1., 1., 1., 1., 1., 1., 1., 1.]])\n"
          ]
        }
      ],
      "source": [
        "tensor = torch.ones(4, 4)\n",
        "# Matrix Multiplication\n",
        "y1 = tensor @ tensor.T\n",
        "y2 = tensor.matmul(tensor.T)\n",
        "\n",
        "# Elementwise Multiplication\n",
        "z1 = tensor * tensor\n",
        "z2 = tensor.mul(tensor)\n",
        "\n",
        "t1 = torch.cat([tensor, tensor, tensor], dim=1)\n",
        "print(t1)"
      ]
    },
    {
      "cell_type": "markdown",
      "metadata": {
        "id": "5TPP5Pf6sRlS"
      },
      "source": [
        "Single-element items can be converted to a Python numerical value using `item()`"
      ]
    },
    {
      "cell_type": "code",
      "execution_count": null,
      "metadata": {
        "colab": {
          "base_uri": "https://localhost:8080/"
        },
        "id": "X0PgmlQPsO2d",
        "outputId": "7470088b-6f89-42fb-9f00-035111b68396"
      },
      "outputs": [
        {
          "name": "stdout",
          "output_type": "stream",
          "text": [
            "16.0 <class 'float'>\n"
          ]
        }
      ],
      "source": [
        "agg = tensor.sum()\n",
        "agg_item = agg.item()\n",
        "print(agg_item, type(agg_item))"
      ]
    },
    {
      "cell_type": "markdown",
      "metadata": {
        "id": "O7o92VwQtweK"
      },
      "source": [
        "## Part 2: Neural Net Models"
      ]
    },
    {
      "cell_type": "code",
      "execution_count": null,
      "metadata": {
        "id": "my6ukgfhuyK0"
      },
      "outputs": [],
      "source": [
        "from torch import nn"
      ]
    },
    {
      "cell_type": "markdown",
      "metadata": {
        "id": "I5ol0c99w2MK"
      },
      "source": [
        "### Defining a Model"
      ]
    },
    {
      "cell_type": "markdown",
      "metadata": {
        "id": "pJT0OIxxt5tV"
      },
      "source": [
        "The base class for any model in PyTorch is `nn.Module`. Every model that you building should have a `forward` function, which defines how your model processes input data."
      ]
    },
    {
      "cell_type": "code",
      "execution_count": null,
      "metadata": {
        "colab": {
          "base_uri": "https://localhost:8080/"
        },
        "id": "W-BsU5wit3kJ",
        "outputId": "b8cfd901-b352-414a-bc9e-d67c9890cbc1"
      },
      "outputs": [
        {
          "name": "stdout",
          "output_type": "stream",
          "text": [
            "ExModel(\n",
            "  (layer1): Linear(in_features=100, out_features=50, bias=True)\n",
            "  (act1): ReLU()\n",
            "  (output_layer): Linear(in_features=50, out_features=1, bias=True)\n",
            ")\n"
          ]
        }
      ],
      "source": [
        "class ExModel(nn.Module):\n",
        "    \"\"\"\n",
        "    Example model: A simple, two-layer NN with ReLU activation.\n",
        "    Input dimension is 100, output dimension is 1.\n",
        "    \"\"\"\n",
        "\n",
        "    def __init__(self):\n",
        "        super(ExModel, self).__init__()\n",
        "        self.layer1 = nn.Linear(100, 50)\n",
        "        self.act1 = nn.ReLU()\n",
        "        self.output_layer = nn.Linear(50, 1)\n",
        "\n",
        "    def forward(self, x):\n",
        "        x = self.layer1(x)\n",
        "        x = self.act1(x)\n",
        "        output = self.output_layer(x)\n",
        "        return output\n",
        "\n",
        "\n",
        "model = ExModel()\n",
        "print(model)"
      ]
    },
    {
      "cell_type": "markdown",
      "metadata": {
        "id": "Ibb5ihb0wJ4L"
      },
      "source": [
        "To process `input` using your model, simply call `model(input)`. Do not call `model.forward()` directly!"
      ]
    },
    {
      "cell_type": "code",
      "execution_count": null,
      "metadata": {
        "colab": {
          "base_uri": "https://localhost:8080/"
        },
        "id": "T91BlOenvwqH",
        "outputId": "bf04d138-c942-4f9c-94ea-6ee50b14edf8"
      },
      "outputs": [
        {
          "name": "stdout",
          "output_type": "stream",
          "text": [
            "torch.Size([64, 1])\n"
          ]
        }
      ],
      "source": [
        "batch_size = 64\n",
        "input = torch.rand(batch_size, 100)\n",
        "predictions = model(input)\n",
        "print(predictions.shape)"
      ]
    },
    {
      "cell_type": "markdown",
      "metadata": {
        "id": "18fzs361wcrx"
      },
      "source": [
        "### Graph-based computation: Parameters, Autograd, and Optimization"
      ]
    },
    {
      "cell_type": "code",
      "execution_count": null,
      "metadata": {
        "id": "6P_4gM25v-aM"
      },
      "outputs": [],
      "source": [
        "# Define hyperparameters for your training before initializing the optimizer\n",
        "learning_rate = 1e-1\n",
        "batch_size = 64\n",
        "epochs = 5"
      ]
    },
    {
      "cell_type": "markdown",
      "metadata": {
        "id": "ebYA0EMu1xdK"
      },
      "source": [
        "**Loss Function**\n",
        "\n",
        "We start by defining a loss function. For Regression, the most common loss function is `nn.MSELoss` (Mean Square Error). For classification, the most common losses are `nn.NLLLoss` (Negative Log Likelihood) or `nn.CrossEntropy` (which combines `nn.LogSoftmax` and `nn/NLLLoss`)."
      ]
    },
    {
      "cell_type": "code",
      "execution_count": null,
      "metadata": {
        "id": "4igbJ41h2Ow2"
      },
      "outputs": [],
      "source": [
        "# Initialize the loss Function\n",
        "loss_fn = nn.MSELoss()"
      ]
    },
    {
      "cell_type": "markdown",
      "metadata": {
        "id": "BYCKylms3D6p"
      },
      "source": [
        "**Optimizer**\n",
        "\n",
        "Choose the optimizer you wish to use from those found in `torch.optim`. Commonly used optimizers include `SGD` and `Adam`. You can find the full list at https://pytorch.org/docs/stable/optim.html.\n",
        "\n",
        "When you define the optimizer, you must give the parameters the optimizer is optimizing. If all your parameters are contained in your model class, you can access them using `model.parameters()`."
      ]
    },
    {
      "cell_type": "code",
      "execution_count": null,
      "metadata": {
        "id": "WGpzAb2E3Ods"
      },
      "outputs": [],
      "source": [
        "optimizer = torch.optim.SGD(model.parameters(), lr=learning_rate)"
      ]
    },
    {
      "cell_type": "markdown",
      "metadata": {
        "id": "64LSRBG_4Fpp"
      },
      "source": [
        "**Training Steps**\n",
        "\n",
        "For each iteration in the training loop, optimization occurs in three steps:\n",
        "- Call `optimizer.zero_grad()` to reset the gradients of the model parameters. By default, the gradients accumulate, so this ensures that the optimizer is not double-counting </li>\n",
        "-Backpropagate the prediction loss with a call to `loss.backward()`. This causes PyTorch to deposit the gradients of the loss with respect to each parameter. </li>\n",
        "- Call `optimizer.step()` to update the parameters according to the optimization scheme and gradients calculated in the backwards pass. </li>"
      ]
    },
    {
      "cell_type": "code",
      "execution_count": null,
      "metadata": {
        "colab": {
          "base_uri": "https://localhost:8080/"
        },
        "id": "GPhwmqpM5QUl",
        "outputId": "ab28b5c3-45cb-47e7-f5a6-95df69507510"
      },
      "outputs": [
        {
          "name": "stdout",
          "output_type": "stream",
          "text": [
            "Training Loss: 0.0928\n",
            "Training Loss: 0.0866\n",
            "Training Loss: 0.0855\n",
            "Training Loss: 0.0845\n",
            "Training Loss: 0.0836\n",
            "Training Loss: 0.0828\n",
            "Training Loss: 0.0819\n",
            "Training Loss: 0.0811\n",
            "Training Loss: 0.0803\n",
            "Training Loss: 0.0795\n"
          ]
        }
      ],
      "source": [
        "# Randomly generate data and labels\n",
        "data = torch.rand(batch_size, 100)\n",
        "labels = torch.rand(batch_size, 1)\n",
        "epochs = 10\n",
        "\n",
        "# Training epochs\n",
        "for epoch in range(epochs):\n",
        "    optimizer.zero_grad()\n",
        "    out = model(data)  # Generate predictions using the model\n",
        "    loss = loss_fn(out, labels)  # Loss/error\n",
        "    print(f\"Training Loss: {loss:.4f}\")\n",
        "    loss.backward()  # Propagate the gradients in backward pass\n",
        "    optimizer.step()  # Update the weights"
      ]
    },
    {
      "cell_type": "markdown",
      "metadata": {
        "id": "JFaq_ilu06Aa"
      },
      "source": [
        "### Saving and Loading Models"
      ]
    },
    {
      "cell_type": "markdown",
      "metadata": {
        "id": "KQspRTe81BtE"
      },
      "source": [
        "The weights of a model are stored in a `state_dict`. You can train a model's state dictionary alone, or the entire model (including size and other hyperparameters). To load the weights of a model, use `model.load_statedict()`."
      ]
    },
    {
      "cell_type": "code",
      "execution_count": null,
      "metadata": {
        "id": "9twBhmrq0Ens"
      },
      "outputs": [],
      "source": [
        "# Saving a model state_dict\n",
        "model = ExModel()\n",
        "torch.save(model.state_dict(), \"model_weights.pth\")\n",
        "model.load_state_dict(torch.load(\"model_weights.pth\"))  # Load model weights\n",
        "\n",
        "\n",
        "# Saving a full model\n",
        "model = ExModel()\n",
        "torch.save(model, \"model.pth\")\n",
        "model = torch.load(\"model.pth\")  # Load full model"
      ]
    },
    {
      "cell_type": "markdown",
      "metadata": {
        "id": "1Pcy4gjq2Q6K"
      },
      "source": [
        "During training, you can also save the state of your optimizer, which similarly has a state dictionary. This is especially important if you are using momentum-based optimizers (such as Adam)."
      ]
    },
    {
      "cell_type": "code",
      "execution_count": null,
      "metadata": {
        "id": "vxkWe5Kl2hf4"
      },
      "outputs": [],
      "source": [
        "optimizer = torch.optim.Adam(model.parameters(), lr=learning_rate)\n",
        "torch.save(optimizer.state_dict(), \"optimizer_state.pth\")\n",
        "optimizer.load_state_dict(torch.load(\"optimizer_state.pth\"))"
      ]
    },
    {
      "cell_type": "markdown",
      "metadata": {
        "id": "9uenGHqZ277M"
      },
      "source": [
        "Often time, you might want to save many quantities at the same time when training a model. These can include:\n",
        "- Model weights/state\n",
        "- Optimizer weights/state\n",
        "- Training loss\n",
        "- Validation loss\n",
        "\n",
        "One common way to say all of these at once is using a dictionary. You can access all relevant quantities at a point in training in a single checkpoint.\n",
        "\n",
        "Note: You do not always need to save the model at each epoch. You may wish to define a `save_interval` to determine how often you save the weights."
      ]
    },
    {
      "cell_type": "code",
      "execution_count": null,
      "metadata": {
        "id": "Lt-j0Gmf3iyf"
      },
      "outputs": [],
      "source": [
        "# Randomly generate data and labels\n",
        "data = torch.rand(batch_size, 100)\n",
        "labels = torch.rand(batch_size, 1)\n",
        "epochs = 10\n",
        "train_losses = []\n",
        "\n",
        "# Training epochs\n",
        "for epoch in range(epochs):\n",
        "    optimizer.zero_grad()\n",
        "    out = model(data)  # Generate predictions using the model\n",
        "    loss = loss_fn(out, labels)  # Loss/error\n",
        "    train_loss.append(loss)\n",
        "    loss.backward()  # Propagate the gradients in backward pass\n",
        "    optimizer.step()\n",
        "    ckpt = {\n",
        "        \"train_losses\": train_losses,\n",
        "        \"model_weights\": model.state_dict(),  # Define checkpoint\n",
        "        \"optimizer_state\": optimizer.state_dict(),\n",
        "    }  # dictionary\n",
        "    torch.save(ckpt, f\"trained_model_e{epoch}.ckpt\")  # Save checkpoint for each epoch"
      ]
    },
    {
      "cell_type": "markdown",
      "metadata": {
        "id": "6Gid_b2tyw8_"
      },
      "source": [
        "## Example: Iris Classification"
      ]
    },
    {
      "cell_type": "code",
      "execution_count": null,
      "metadata": {
        "id": "iRj-ie8Vy67K"
      },
      "outputs": [],
      "source": [
        "from sklearn.datasets import load_iris\n",
        "from sklearn.model_selection import train_test_split\n",
        "from sklearn.preprocessing import StandardScaler\n",
        "\n",
        "iris = load_iris()\n",
        "X = iris[\"data\"]\n",
        "y = iris[\"target\"]\n",
        "names = iris[\"target_names\"]\n",
        "feature_names = iris[\"feature_names\"]\n",
        "\n",
        "# Scale data to have mean 0 and variance 1\n",
        "# which is importance for convergence of the neural network\n",
        "scaler = StandardScaler()\n",
        "X_scaled = scaler.fit_transform(X)\n",
        "\n",
        "# Split the data set into training and testing\n",
        "X_train, X_test, y_train, y_test = train_test_split(\n",
        "    X_scaled, y, test_size=0.2, random_state=2\n",
        ")"
      ]
    },
    {
      "cell_type": "code",
      "execution_count": null,
      "metadata": {
        "colab": {
          "base_uri": "https://localhost:8080/",
          "height": 388
        },
        "id": "XjRBl-240fzm",
        "outputId": "8b7dcb69-67b9-47be-8a6b-a22bee5c4cfb"
      },
      "outputs": [
        {
          "data": {
            "image/png": "[encoded data removed]",
            "text/plain": [
              "<Figure size 1152x432 with 2 Axes>"
            ]
          },
          "metadata": {
            "needs_background": "light"
          },
          "output_type": "display_data"
        }
      ],
      "source": [
        "import matplotlib.pyplot as plt\n",
        "\n",
        "fig, (ax1, ax2) = plt.subplots(1, 2, figsize=(16, 6))\n",
        "for target, target_name in enumerate(names):\n",
        "    X_plot = X[y == target]\n",
        "    ax1.plot(\n",
        "        X_plot[:, 0], X_plot[:, 1], linestyle=\"none\", marker=\"o\", label=target_name\n",
        "    )\n",
        "ax1.set_xlabel(feature_names[0])\n",
        "ax1.set_ylabel(feature_names[1])\n",
        "ax1.axis(\"equal\")\n",
        "ax1.legend()\n",
        "\n",
        "for target, target_name in enumerate(names):\n",
        "    X_plot = X[y == target]\n",
        "    ax2.plot(\n",
        "        X_plot[:, 2], X_plot[:, 3], linestyle=\"none\", marker=\"o\", label=target_name\n",
        "    )\n",
        "ax2.set_xlabel(feature_names[2])\n",
        "ax2.set_ylabel(feature_names[3])\n",
        "ax2.axis(\"equal\")\n",
        "ax2.legend();"
      ]
    },
    {
      "cell_type": "code",
      "execution_count": null,
      "metadata": {
        "id": "NX6J7qO50em2"
      },
      "outputs": [],
      "source": [
        "import torch.nn.functional as F\n",
        "\n",
        "\n",
        "class Model(nn.Module):\n",
        "    def __init__(self, input_dim):\n",
        "        super(Model, self).__init__()\n",
        "        self.layer1 = nn.Linear(input_dim, 50)\n",
        "        self.layer2 = nn.Linear(50, 50)\n",
        "        self.layer3 = nn.Linear(50, 3)\n",
        "\n",
        "    def forward(self, x):\n",
        "        x = F.relu(self.layer1(x))\n",
        "        x = F.relu(self.layer2(x))\n",
        "        x = F.softmax(self.layer3(x), dim=1)\n",
        "        return x"
      ]
    },
    {
      "cell_type": "code",
      "execution_count": null,
      "metadata": {
        "colab": {
          "base_uri": "https://localhost:8080/"
        },
        "id": "Y_cmxgxD0nN4",
        "outputId": "fb59fb2c-f495-41ec-c0bd-4c7ddbdbd6f4"
      },
      "outputs": [
        {
          "data": {
            "text/plain": [
              "Model(\n",
              "  (layer1): Linear(in_features=4, out_features=50, bias=True)\n",
              "  (layer2): Linear(in_features=50, out_features=50, bias=True)\n",
              "  (layer3): Linear(in_features=50, out_features=3, bias=True)\n",
              ")"
            ]
          },
          "execution_count": 6,
          "metadata": {},
          "output_type": "execute_result"
        }
      ],
      "source": [
        "model = Model(X_train.shape[1])\n",
        "optimizer = torch.optim.Adam(model.parameters(), lr=0.001)\n",
        "loss_fn = nn.CrossEntropyLoss()\n",
        "model"
      ]
    },
    {
      "cell_type": "code",
      "execution_count": null,
      "metadata": {
        "colab": {
          "base_uri": "https://localhost:8080/"
        },
        "id": "hyt-DraC1gVV",
        "outputId": "1feda4f6-0da2-4322-f7d2-7d84ee02728f"
      },
      "outputs": [
        {
          "name": "stderr",
          "output_type": "stream",
          "text": [
            "100%|██████████| 100/100 [00:00<00:00, 247.90it/s]\n"
          ]
        }
      ],
      "source": [
        "import tqdm\n",
        "\n",
        "EPOCHS = 100\n",
        "X_train = torch.from_numpy(X_train).float()\n",
        "y_train = torch.from_numpy(y_train).long()\n",
        "X_test = torch.from_numpy(X_test).float()\n",
        "y_test = torch.from_numpy(y_test).long()\n",
        "\n",
        "loss_list = np.zeros((EPOCHS,))\n",
        "accuracy_list = np.zeros((EPOCHS,))\n",
        "\n",
        "for epoch in tqdm.trange(EPOCHS):\n",
        "    y_pred = model(X_train)\n",
        "    loss = loss_fn(y_pred, y_train)\n",
        "    loss_list[epoch] = loss.item()\n",
        "\n",
        "    # Zero gradients\n",
        "    optimizer.zero_grad()\n",
        "    loss.backward()\n",
        "    optimizer.step()\n",
        "\n",
        "    with torch.no_grad():\n",
        "        y_pred = model(X_test)\n",
        "        correct = (torch.argmax(y_pred, dim=1) == y_test).type(torch.FloatTensor)\n",
        "        accuracy_list[epoch] = correct.mean()"
      ]
    },
    {
      "cell_type": "code",
      "execution_count": null,
      "metadata": {
        "colab": {
          "base_uri": "https://localhost:8080/",
          "height": 388
        },
        "id": "cHKYZP0o3cdC",
        "outputId": "e7ba0404-2291-41ae-f9f1-a86cddbd7afb"
      },
      "outputs": [
        {
          "data": {
            "image/png": "[encoded data removed]",
            "text/plain": [
              "<Figure size 864x432 with 2 Axes>"
            ]
          },
          "metadata": {
            "needs_background": "light"
          },
          "output_type": "display_data"
        }
      ],
      "source": [
        "fig, (ax1, ax2) = plt.subplots(2, figsize=(12, 6), sharex=True)\n",
        "\n",
        "ax1.plot(accuracy_list)\n",
        "ax1.set_ylabel(\"validation accuracy\")\n",
        "ax2.plot(loss_list)\n",
        "ax2.set_ylabel(\"training loss\")\n",
        "ax2.set_xlabel(\"epochs\");"
      ]
    },
    {
      "cell_type": "markdown",
      "metadata": {
        "id": "b7h7N_1X4lmI"
      },
      "source": [
        "## Lab Assignment: MNIST Classification Task"
      ]
    },
    {
      "cell_type": "markdown",
      "metadata": {
        "id": "B0vR5I9h4s8V"
      },
      "source": [
        "Design your own MNIST Classification model (see video recording for explanation of MNIST dataset). You may choose your own hyperparameters, including:\n",
        "- Number of layers\n",
        "- Number of neurons in each layer\n",
        "- Learning rate\n",
        "- Number of training epochs\n",
        "- Optimizer\n",
        "\n",
        "Using a fully-connected network, you should be able to accomplish >90% accuracy on the test set. Please report your hyperparameter selections and accuracy in a summary at the end of the notebook."
      ]
    },
    {
      "cell_type": "markdown",
      "metadata": {
        "id": "ly85jvec6V6A"
      },
      "source": [
        "To load the MNIST dataset, we will use `torchvision`, which contains the datasets and has useful transformations. Start by defining the batch size you want for your training and test sets"
      ]
    },
    {
      "cell_type": "code",
      "execution_count": null,
      "metadata": {
        "id": "feGo1EKE4sRg"
      },
      "outputs": [],
      "source": [
        "import torchvision\n",
        "import torch\n",
        "import numpy as np\n",
        "from torch import nn\n",
        "\n",
        "batch_size_train = 64  # Define train batch size\n",
        "batch_size_test = 64 * 4  # Define test batch size (can be larger than train batch size)\n",
        "\n",
        "\n",
        "# Use the following code to load and normalize the dataset\n",
        "train_loader = torch.utils.data.DataLoader(\n",
        "    torchvision.datasets.MNIST(\n",
        "        \"/files/\",\n",
        "        train=True,\n",
        "        download=True,\n",
        "        transform=torchvision.transforms.Compose(\n",
        "            [\n",
        "                torchvision.transforms.ToTensor(),\n",
        "                torchvision.transforms.Normalize((0.1307,), (0.3081,)),\n",
        "            ]\n",
        "        ),\n",
        "    ),\n",
        "    batch_size=batch_size_train,\n",
        "    shuffle=True,\n",
        ")\n",
        "\n",
        "test_loader = torch.utils.data.DataLoader(\n",
        "    torchvision.datasets.MNIST(\n",
        "        \"/files/\",\n",
        "        train=False,\n",
        "        download=True,\n",
        "        transform=torchvision.transforms.Compose(\n",
        "            [\n",
        "                torchvision.transforms.ToTensor(),\n",
        "                torchvision.transforms.Normalize((0.1307,), (0.3081,)),\n",
        "            ]\n",
        "        ),\n",
        "    ),\n",
        "    batch_size=batch_size_test,\n",
        "    shuffle=True,\n",
        ")"
      ]
    },
    {
      "cell_type": "code",
      "execution_count": null,
      "metadata": {
        "id": "HrvoPg1f7Gxu"
      },
      "outputs": [],
      "source": [
        "# Define your network:\n",
        "import torch.nn.functional as F\n",
        "\n",
        "\n",
        "class Network(nn.Module):\n",
        "    def __init__(self, input_dim):  # Can provide additional inputs for initialization\n",
        "        # Define the network layer(s) and activation function(s)\n",
        "        super().__init__()\n",
        "        self.layer1 = nn.Linear(input_dim, 200)\n",
        "        self.layer2 = nn.Linear(200, 150)\n",
        "        self.layer3 = nn.Linear(150, 100)\n",
        "        self.layer4 = nn.Linear(100, 50)\n",
        "        self.layer5 = nn.Linear(50, 10)\n",
        "\n",
        "    def forward(self, input):\n",
        "        # How does your model process the input?\n",
        "\n",
        "        output = F.relu(self.layer1(input))\n",
        "        output = F.relu(self.layer2(output))\n",
        "        output = F.relu(self.layer3(output))\n",
        "        output = F.relu(self.layer4(output))\n",
        "        output = F.softmax(self.layer5(output), dim=1)\n",
        "\n",
        "        return output"
      ]
    },
    {
      "cell_type": "code",
      "execution_count": null,
      "metadata": {
        "colab": {
          "base_uri": "https://localhost:8080/"
        },
        "id": "0F_DyktW8Bgw",
        "outputId": "b50bb265-20df-4f06-b562-942429b1a7fd"
      },
      "outputs": [
        {
          "name": "stderr",
          "output_type": "stream",
          "text": [
            "\r  0%|          | 0/10 [00:00<?, ?it/s]"
          ]
        },
        {
          "name": "stdout",
          "output_type": "stream",
          "text": [
            "Train Epoch: 1 [0/60000 (0%)]\tLoss: 2.301421\n",
            "Train Epoch: 1 [3200/60000 (5%)]\tLoss: 2.113902\n",
            "Train Epoch: 1 [6400/60000 (11%)]\tLoss: 1.940840\n",
            "Train Epoch: 1 [9600/60000 (16%)]\tLoss: 1.851046\n",
            "Train Epoch: 1 [12800/60000 (21%)]\tLoss: 1.717590\n",
            "Train Epoch: 1 [16000/60000 (27%)]\tLoss: 1.841104\n",
            "Train Epoch: 1 [19200/60000 (32%)]\tLoss: 1.763824\n",
            "Train Epoch: 1 [22400/60000 (37%)]\tLoss: 1.626356\n",
            "Train Epoch: 1 [25600/60000 (43%)]\tLoss: 1.722813\n",
            "Train Epoch: 1 [28800/60000 (48%)]\tLoss: 1.733687\n",
            "Train Epoch: 1 [32000/60000 (53%)]\tLoss: 1.723415\n",
            "Train Epoch: 1 [35200/60000 (59%)]\tLoss: 1.668278\n",
            "Train Epoch: 1 [38400/60000 (64%)]\tLoss: 1.658193\n",
            "Train Epoch: 1 [41600/60000 (69%)]\tLoss: 1.677388\n",
            "Train Epoch: 1 [44800/60000 (75%)]\tLoss: 1.668270\n",
            "Train Epoch: 1 [48000/60000 (80%)]\tLoss: 1.769268\n",
            "Train Epoch: 1 [51200/60000 (85%)]\tLoss: 1.778240\n",
            "Train Epoch: 1 [54400/60000 (91%)]\tLoss: 1.700649\n",
            "Train Epoch: 1 [57600/60000 (96%)]\tLoss: 1.687807\n"
          ]
        },
        {
          "name": "stderr",
          "output_type": "stream",
          "text": [
            "\r 10%|█         | 1/10 [00:14<02:09, 14.35s/it]"
          ]
        },
        {
          "name": "stdout",
          "output_type": "stream",
          "text": [
            "\n",
            "Test set: number of correct labels: 7692/10000 accuracy: (77%)\n",
            "\n",
            "Train Epoch: 2 [0/60000 (0%)]\tLoss: 1.636410\n",
            "Train Epoch: 2 [3200/60000 (5%)]\tLoss: 1.704467\n",
            "Train Epoch: 2 [6400/60000 (11%)]\tLoss: 1.713370\n",
            "Train Epoch: 2 [9600/60000 (16%)]\tLoss: 1.686240\n",
            "Train Epoch: 2 [12800/60000 (21%)]\tLoss: 1.655894\n",
            "Train Epoch: 2 [16000/60000 (27%)]\tLoss: 1.714453\n",
            "Train Epoch: 2 [19200/60000 (32%)]\tLoss: 1.671871\n",
            "Train Epoch: 2 [22400/60000 (37%)]\tLoss: 1.721429\n",
            "Train Epoch: 2 [25600/60000 (43%)]\tLoss: 1.781616\n",
            "Train Epoch: 2 [28800/60000 (48%)]\tLoss: 1.714097\n",
            "Train Epoch: 2 [32000/60000 (53%)]\tLoss: 1.581227\n",
            "Train Epoch: 2 [35200/60000 (59%)]\tLoss: 1.633413\n",
            "Train Epoch: 2 [38400/60000 (64%)]\tLoss: 1.589345\n",
            "Train Epoch: 2 [41600/60000 (69%)]\tLoss: 1.597507\n",
            "Train Epoch: 2 [44800/60000 (75%)]\tLoss: 1.640598\n",
            "Train Epoch: 2 [48000/60000 (80%)]\tLoss: 1.650186\n",
            "Train Epoch: 2 [51200/60000 (85%)]\tLoss: 1.605100\n",
            "Train Epoch: 2 [54400/60000 (91%)]\tLoss: 1.599054\n",
            "Train Epoch: 2 [57600/60000 (96%)]\tLoss: 1.651192\n"
          ]
        },
        {
          "name": "stderr",
          "output_type": "stream",
          "text": [
            "\r 20%|██        | 2/10 [00:28<01:54, 14.36s/it]"
          ]
        },
        {
          "name": "stdout",
          "output_type": "stream",
          "text": [
            "\n",
            "Test set: number of correct labels: 8559/10000 accuracy: (86%)\n",
            "\n",
            "Train Epoch: 3 [0/60000 (0%)]\tLoss: 1.551282\n",
            "Train Epoch: 3 [3200/60000 (5%)]\tLoss: 1.709438\n",
            "Train Epoch: 3 [6400/60000 (11%)]\tLoss: 1.604449\n",
            "Train Epoch: 3 [9600/60000 (16%)]\tLoss: 1.617049\n",
            "Train Epoch: 3 [12800/60000 (21%)]\tLoss: 1.604357\n",
            "Train Epoch: 3 [16000/60000 (27%)]\tLoss: 1.638196\n",
            "Train Epoch: 3 [19200/60000 (32%)]\tLoss: 1.587871\n",
            "Train Epoch: 3 [22400/60000 (37%)]\tLoss: 1.605658\n",
            "Train Epoch: 3 [25600/60000 (43%)]\tLoss: 1.637497\n",
            "Train Epoch: 3 [28800/60000 (48%)]\tLoss: 1.617574\n",
            "Train Epoch: 3 [32000/60000 (53%)]\tLoss: 1.640643\n",
            "Train Epoch: 3 [35200/60000 (59%)]\tLoss: 1.655257\n",
            "Train Epoch: 3 [38400/60000 (64%)]\tLoss: 1.574594\n",
            "Train Epoch: 3 [41600/60000 (69%)]\tLoss: 1.676083\n",
            "Train Epoch: 3 [44800/60000 (75%)]\tLoss: 1.592180\n",
            "Train Epoch: 3 [48000/60000 (80%)]\tLoss: 1.628388\n",
            "Train Epoch: 3 [51200/60000 (85%)]\tLoss: 1.570886\n",
            "Train Epoch: 3 [54400/60000 (91%)]\tLoss: 1.592803\n",
            "Train Epoch: 3 [57600/60000 (96%)]\tLoss: 1.665369\n"
          ]
        },
        {
          "name": "stderr",
          "output_type": "stream",
          "text": [
            "\r 30%|███       | 3/10 [00:43<01:40, 14.36s/it]"
          ]
        },
        {
          "name": "stdout",
          "output_type": "stream",
          "text": [
            "\n",
            "Test set: number of correct labels: 8676/10000 accuracy: (87%)\n",
            "\n",
            "Train Epoch: 4 [0/60000 (0%)]\tLoss: 1.588177\n",
            "Train Epoch: 4 [3200/60000 (5%)]\tLoss: 1.599092\n",
            "Train Epoch: 4 [6400/60000 (11%)]\tLoss: 1.577877\n",
            "Train Epoch: 4 [9600/60000 (16%)]\tLoss: 1.620192\n",
            "Train Epoch: 4 [12800/60000 (21%)]\tLoss: 1.576047\n",
            "Train Epoch: 4 [16000/60000 (27%)]\tLoss: 1.638833\n",
            "Train Epoch: 4 [19200/60000 (32%)]\tLoss: 1.588683\n",
            "Train Epoch: 4 [22400/60000 (37%)]\tLoss: 1.572468\n",
            "Train Epoch: 4 [25600/60000 (43%)]\tLoss: 1.605004\n",
            "Train Epoch: 4 [28800/60000 (48%)]\tLoss: 1.684428\n",
            "Train Epoch: 4 [32000/60000 (53%)]\tLoss: 1.597835\n",
            "Train Epoch: 4 [35200/60000 (59%)]\tLoss: 1.650473\n",
            "Train Epoch: 4 [38400/60000 (64%)]\tLoss: 1.652610\n",
            "Train Epoch: 4 [41600/60000 (69%)]\tLoss: 1.570577\n",
            "Train Epoch: 4 [44800/60000 (75%)]\tLoss: 1.612379\n",
            "Train Epoch: 4 [48000/60000 (80%)]\tLoss: 1.537346\n",
            "Train Epoch: 4 [51200/60000 (85%)]\tLoss: 1.538824\n",
            "Train Epoch: 4 [54400/60000 (91%)]\tLoss: 1.555268\n",
            "Train Epoch: 4 [57600/60000 (96%)]\tLoss: 1.591051\n"
          ]
        },
        {
          "name": "stderr",
          "output_type": "stream",
          "text": [
            "\r 40%|████      | 4/10 [00:57<01:25, 14.33s/it]"
          ]
        },
        {
          "name": "stdout",
          "output_type": "stream",
          "text": [
            "\n",
            "Test set: number of correct labels: 8683/10000 accuracy: (87%)\n",
            "\n",
            "Train Epoch: 5 [0/60000 (0%)]\tLoss: 1.494350\n",
            "Train Epoch: 5 [3200/60000 (5%)]\tLoss: 1.525364\n",
            "Train Epoch: 5 [6400/60000 (11%)]\tLoss: 1.558767\n",
            "Train Epoch: 5 [9600/60000 (16%)]\tLoss: 1.647411\n",
            "Train Epoch: 5 [12800/60000 (21%)]\tLoss: 1.544707\n",
            "Train Epoch: 5 [16000/60000 (27%)]\tLoss: 1.556974\n",
            "Train Epoch: 5 [19200/60000 (32%)]\tLoss: 1.582628\n",
            "Train Epoch: 5 [22400/60000 (37%)]\tLoss: 1.595652\n",
            "Train Epoch: 5 [25600/60000 (43%)]\tLoss: 1.551949\n",
            "Train Epoch: 5 [28800/60000 (48%)]\tLoss: 1.610070\n",
            "Train Epoch: 5 [32000/60000 (53%)]\tLoss: 1.544055\n",
            "Train Epoch: 5 [35200/60000 (59%)]\tLoss: 1.631157\n",
            "Train Epoch: 5 [38400/60000 (64%)]\tLoss: 1.552845\n",
            "Train Epoch: 5 [41600/60000 (69%)]\tLoss: 1.552279\n",
            "Train Epoch: 5 [44800/60000 (75%)]\tLoss: 1.556224\n",
            "Train Epoch: 5 [48000/60000 (80%)]\tLoss: 1.621461\n",
            "Train Epoch: 5 [51200/60000 (85%)]\tLoss: 1.629600\n",
            "Train Epoch: 5 [54400/60000 (91%)]\tLoss: 1.638696\n",
            "Train Epoch: 5 [57600/60000 (96%)]\tLoss: 1.614666\n"
          ]
        },
        {
          "name": "stderr",
          "output_type": "stream",
          "text": [
            "\r 50%|█████     | 5/10 [01:11<01:11, 14.31s/it]"
          ]
        },
        {
          "name": "stdout",
          "output_type": "stream",
          "text": [
            "\n",
            "Test set: number of correct labels: 8730/10000 accuracy: (87%)\n",
            "\n",
            "Train Epoch: 6 [0/60000 (0%)]\tLoss: 1.623443\n",
            "Train Epoch: 6 [3200/60000 (5%)]\tLoss: 1.564567\n",
            "Train Epoch: 6 [6400/60000 (11%)]\tLoss: 1.519914\n",
            "Train Epoch: 6 [9600/60000 (16%)]\tLoss: 1.584333\n",
            "Train Epoch: 6 [12800/60000 (21%)]\tLoss: 1.590146\n",
            "Train Epoch: 6 [16000/60000 (27%)]\tLoss: 1.617979\n",
            "Train Epoch: 6 [19200/60000 (32%)]\tLoss: 1.565539\n",
            "Train Epoch: 6 [22400/60000 (37%)]\tLoss: 1.621482\n",
            "Train Epoch: 6 [25600/60000 (43%)]\tLoss: 1.575292\n",
            "Train Epoch: 6 [28800/60000 (48%)]\tLoss: 1.605138\n",
            "Train Epoch: 6 [32000/60000 (53%)]\tLoss: 1.585642\n",
            "Train Epoch: 6 [35200/60000 (59%)]\tLoss: 1.558798\n",
            "Train Epoch: 6 [38400/60000 (64%)]\tLoss: 1.644053\n",
            "Train Epoch: 6 [41600/60000 (69%)]\tLoss: 1.538210\n",
            "Train Epoch: 6 [44800/60000 (75%)]\tLoss: 1.564613\n",
            "Train Epoch: 6 [48000/60000 (80%)]\tLoss: 1.556241\n",
            "Train Epoch: 6 [51200/60000 (85%)]\tLoss: 1.606027\n",
            "Train Epoch: 6 [54400/60000 (91%)]\tLoss: 1.604909\n",
            "Train Epoch: 6 [57600/60000 (96%)]\tLoss: 1.526231\n"
          ]
        },
        {
          "name": "stderr",
          "output_type": "stream",
          "text": [
            "\r 60%|██████    | 6/10 [01:25<00:57, 14.31s/it]"
          ]
        },
        {
          "name": "stdout",
          "output_type": "stream",
          "text": [
            "\n",
            "Test set: number of correct labels: 8793/10000 accuracy: (88%)\n",
            "\n",
            "Train Epoch: 7 [0/60000 (0%)]\tLoss: 1.630397\n",
            "Train Epoch: 7 [3200/60000 (5%)]\tLoss: 1.611943\n",
            "Train Epoch: 7 [6400/60000 (11%)]\tLoss: 1.577468\n",
            "Train Epoch: 7 [9600/60000 (16%)]\tLoss: 1.463540\n",
            "Train Epoch: 7 [12800/60000 (21%)]\tLoss: 1.586448\n",
            "Train Epoch: 7 [16000/60000 (27%)]\tLoss: 1.675476\n",
            "Train Epoch: 7 [19200/60000 (32%)]\tLoss: 1.602045\n",
            "Train Epoch: 7 [22400/60000 (37%)]\tLoss: 1.578533\n",
            "Train Epoch: 7 [25600/60000 (43%)]\tLoss: 1.555011\n",
            "Train Epoch: 7 [28800/60000 (48%)]\tLoss: 1.523335\n",
            "Train Epoch: 7 [32000/60000 (53%)]\tLoss: 1.600094\n",
            "Train Epoch: 7 [35200/60000 (59%)]\tLoss: 1.526065\n",
            "Train Epoch: 7 [38400/60000 (64%)]\tLoss: 1.515370\n",
            "Train Epoch: 7 [41600/60000 (69%)]\tLoss: 1.555584\n",
            "Train Epoch: 7 [44800/60000 (75%)]\tLoss: 1.514175\n",
            "Train Epoch: 7 [48000/60000 (80%)]\tLoss: 1.555443\n",
            "Train Epoch: 7 [51200/60000 (85%)]\tLoss: 1.530574\n",
            "Train Epoch: 7 [54400/60000 (91%)]\tLoss: 1.530205\n",
            "Train Epoch: 7 [57600/60000 (96%)]\tLoss: 1.557716\n"
          ]
        },
        {
          "name": "stderr",
          "output_type": "stream",
          "text": [
            "\r 70%|███████   | 7/10 [01:40<00:42, 14.30s/it]"
          ]
        },
        {
          "name": "stdout",
          "output_type": "stream",
          "text": [
            "\n",
            "Test set: number of correct labels: 9527/10000 accuracy: (95%)\n",
            "\n",
            "Train Epoch: 8 [0/60000 (0%)]\tLoss: 1.533193\n",
            "Train Epoch: 8 [3200/60000 (5%)]\tLoss: 1.497054\n",
            "Train Epoch: 8 [6400/60000 (11%)]\tLoss: 1.518745\n",
            "Train Epoch: 8 [9600/60000 (16%)]\tLoss: 1.492525\n",
            "Train Epoch: 8 [12800/60000 (21%)]\tLoss: 1.499320\n",
            "Train Epoch: 8 [16000/60000 (27%)]\tLoss: 1.526850\n",
            "Train Epoch: 8 [19200/60000 (32%)]\tLoss: 1.502183\n",
            "Train Epoch: 8 [22400/60000 (37%)]\tLoss: 1.544489\n",
            "Train Epoch: 8 [25600/60000 (43%)]\tLoss: 1.477868\n",
            "Train Epoch: 8 [28800/60000 (48%)]\tLoss: 1.489028\n",
            "Train Epoch: 8 [32000/60000 (53%)]\tLoss: 1.501173\n",
            "Train Epoch: 8 [35200/60000 (59%)]\tLoss: 1.493779\n",
            "Train Epoch: 8 [38400/60000 (64%)]\tLoss: 1.504226\n",
            "Train Epoch: 8 [41600/60000 (69%)]\tLoss: 1.486365\n",
            "Train Epoch: 8 [44800/60000 (75%)]\tLoss: 1.553633\n",
            "Train Epoch: 8 [48000/60000 (80%)]\tLoss: 1.469024\n",
            "Train Epoch: 8 [51200/60000 (85%)]\tLoss: 1.506424\n",
            "Train Epoch: 8 [54400/60000 (91%)]\tLoss: 1.463675\n",
            "Train Epoch: 8 [57600/60000 (96%)]\tLoss: 1.518506\n"
          ]
        },
        {
          "name": "stderr",
          "output_type": "stream",
          "text": [
            "\r 80%|████████  | 8/10 [01:54<00:28, 14.33s/it]"
          ]
        },
        {
          "name": "stdout",
          "output_type": "stream",
          "text": [
            "\n",
            "Test set: number of correct labels: 9643/10000 accuracy: (96%)\n",
            "\n",
            "Train Epoch: 9 [0/60000 (0%)]\tLoss: 1.513513\n",
            "Train Epoch: 9 [3200/60000 (5%)]\tLoss: 1.505146\n",
            "Train Epoch: 9 [6400/60000 (11%)]\tLoss: 1.473378\n",
            "Train Epoch: 9 [9600/60000 (16%)]\tLoss: 1.518213\n",
            "Train Epoch: 9 [12800/60000 (21%)]\tLoss: 1.487057\n",
            "Train Epoch: 9 [16000/60000 (27%)]\tLoss: 1.465719\n",
            "Train Epoch: 9 [19200/60000 (32%)]\tLoss: 1.483410\n",
            "Train Epoch: 9 [22400/60000 (37%)]\tLoss: 1.525116\n",
            "Train Epoch: 9 [25600/60000 (43%)]\tLoss: 1.519583\n",
            "Train Epoch: 9 [28800/60000 (48%)]\tLoss: 1.464449\n",
            "Train Epoch: 9 [32000/60000 (53%)]\tLoss: 1.495086\n",
            "Train Epoch: 9 [35200/60000 (59%)]\tLoss: 1.483229\n",
            "Train Epoch: 9 [38400/60000 (64%)]\tLoss: 1.498452\n",
            "Train Epoch: 9 [41600/60000 (69%)]\tLoss: 1.526713\n",
            "Train Epoch: 9 [44800/60000 (75%)]\tLoss: 1.509376\n",
            "Train Epoch: 9 [48000/60000 (80%)]\tLoss: 1.507929\n",
            "Train Epoch: 9 [51200/60000 (85%)]\tLoss: 1.495227\n",
            "Train Epoch: 9 [54400/60000 (91%)]\tLoss: 1.497007\n",
            "Train Epoch: 9 [57600/60000 (96%)]\tLoss: 1.493062\n"
          ]
        },
        {
          "name": "stderr",
          "output_type": "stream",
          "text": [
            "\r 90%|█████████ | 9/10 [02:08<00:14, 14.33s/it]"
          ]
        },
        {
          "name": "stdout",
          "output_type": "stream",
          "text": [
            "\n",
            "Test set: number of correct labels: 9672/10000 accuracy: (97%)\n",
            "\n",
            "Train Epoch: 10 [0/60000 (0%)]\tLoss: 1.500812\n",
            "Train Epoch: 10 [3200/60000 (5%)]\tLoss: 1.476207\n",
            "Train Epoch: 10 [6400/60000 (11%)]\tLoss: 1.514138\n",
            "Train Epoch: 10 [9600/60000 (16%)]\tLoss: 1.471831\n",
            "Train Epoch: 10 [12800/60000 (21%)]\tLoss: 1.490201\n",
            "Train Epoch: 10 [16000/60000 (27%)]\tLoss: 1.482971\n",
            "Train Epoch: 10 [19200/60000 (32%)]\tLoss: 1.508776\n",
            "Train Epoch: 10 [22400/60000 (37%)]\tLoss: 1.464060\n",
            "Train Epoch: 10 [25600/60000 (43%)]\tLoss: 1.479771\n",
            "Train Epoch: 10 [28800/60000 (48%)]\tLoss: 1.480289\n",
            "Train Epoch: 10 [32000/60000 (53%)]\tLoss: 1.472403\n",
            "Train Epoch: 10 [35200/60000 (59%)]\tLoss: 1.513766\n",
            "Train Epoch: 10 [38400/60000 (64%)]\tLoss: 1.470648\n",
            "Train Epoch: 10 [41600/60000 (69%)]\tLoss: 1.480012\n",
            "Train Epoch: 10 [44800/60000 (75%)]\tLoss: 1.477365\n",
            "Train Epoch: 10 [48000/60000 (80%)]\tLoss: 1.490874\n",
            "Train Epoch: 10 [51200/60000 (85%)]\tLoss: 1.481414\n",
            "Train Epoch: 10 [54400/60000 (91%)]\tLoss: 1.500019\n",
            "Train Epoch: 10 [57600/60000 (96%)]\tLoss: 1.461190\n"
          ]
        },
        {
          "name": "stderr",
          "output_type": "stream",
          "text": [
            "100%|██████████| 10/10 [02:23<00:00, 14.33s/it]"
          ]
        },
        {
          "name": "stdout",
          "output_type": "stream",
          "text": [
            "\n",
            "Test set: number of correct labels: 9673/10000 accuracy: (97%)\n",
            "\n"
          ]
        },
        {
          "name": "stderr",
          "output_type": "stream",
          "text": [
            "\n"
          ]
        }
      ],
      "source": [
        "# Define your optimizer\n",
        "model = Network(28 * 28)\n",
        "\n",
        "optimizer = torch.optim.Adam(model.parameters(), lr=0.0002)\n",
        "epochs = 10\n",
        "loss_fn = nn.CrossEntropyLoss()\n",
        "\n",
        "loss_list = []\n",
        "accuracy_list = np.zeros((epochs,))\n",
        "\n",
        "log_interval = 50\n",
        "import tqdm\n",
        "\n",
        "for epoch in tqdm.trange(epochs):\n",
        "    for idx, (data, labels) in enumerate(train_loader):\n",
        "        # Calculate training loss on model\n",
        "        data = torch.squeeze(data)\n",
        "        pred_y = model(torch.flatten(data, start_dim=1))\n",
        "\n",
        "        train_y = labels\n",
        "        loss = loss_fn(pred_y, train_y)\n",
        "\n",
        "        # zeros gradients\n",
        "        optimizer.zero_grad()\n",
        "        loss.backward()\n",
        "        optimizer.step()\n",
        "\n",
        "        if idx % log_interval == 0:\n",
        "            print(\n",
        "                \"Train Epoch: {} [{}/{} ({:.0f}%)]\\tLoss: {:.6f}\".format(\n",
        "                    epoch + 1,\n",
        "                    idx * len(data),\n",
        "                    len(train_loader.dataset),\n",
        "                    100.0 * idx / len(train_loader),\n",
        "                    loss.item(),\n",
        "                )\n",
        "            )\n",
        "            loss_list.append(loss.item())\n",
        "\n",
        "    # Calculate loss on test set\n",
        "\n",
        "    with torch.no_grad():\n",
        "        n_sample = len(test_loader.dataset)\n",
        "        n_correct = 0\n",
        "        for data, labels in test_loader:\n",
        "\n",
        "            squeezed_X = torch.squeeze(data)\n",
        "            pred_y = model(torch.flatten(squeezed_X, start_dim=1))\n",
        "\n",
        "            test_y = labels\n",
        "\n",
        "            n_correct += sum(\n",
        "                (torch.argmax(pred_y, dim=1) == test_y).type(torch.FloatTensor)\n",
        "            )\n",
        "\n",
        "        accuracy_list[epoch] = 100.0 * n_correct / n_sample\n",
        "        print(\n",
        "            \"\\nTest set: number of correct labels: {}/{} accuracy: ({:.0f}%)\\n\".format(\n",
        "                int(n_correct), n_sample, 100.0 * n_correct / n_sample\n",
        "            )\n",
        "        )"
      ]
    },
    {
      "cell_type": "code",
      "execution_count": null,
      "metadata": {
        "colab": {
          "base_uri": "https://localhost:8080/",
          "height": 388
        },
        "id": "ctqf-Yqptz0L",
        "outputId": "817d2509-cdf7-4f05-94aa-1e64644022ab"
      },
      "outputs": [
        {
          "data": {
            "image/png": "[encoded data removed]",
            "text/plain": [
              "<Figure size 864x432 with 2 Axes>"
            ]
          },
          "metadata": {
            "needs_background": "light"
          },
          "output_type": "display_data"
        }
      ],
      "source": [
        "import matplotlib.pyplot as plt\n",
        "\n",
        "fig, (ax1, ax2) = plt.subplots(2, figsize=(12, 6), sharex=False)\n",
        "\n",
        "ax1.plot(accuracy_list)\n",
        "ax1.set_ylabel(\"validation accuracy\")\n",
        "ax1.set_xlabel(\"epochs\")\n",
        "ax2.plot(loss_list)\n",
        "ax2.set_ylabel(\"training loss\")\n",
        "ax2.set_xlabel(\"every 50 iterations\");"
      ]
    },
    {
      "cell_type": "markdown",
      "metadata": {
        "id": "hG-mqyUJ9TCT"
      },
      "source": [
        "## Questions to answer:\n",
        "\n",
        "**A**:  The hyperparameters I choose to vary are number of layers, number of neurons (As I increase the number of layers, I decrease the dimensionality difference between consecutive layers), and learning rate. \n",
        "\n",
        "For learning rate, I start with 0.2, then decrease it in steps by a factor of 10. Ultimately, I use 0.0002 which converges efficiently and computational fridendly. \n",
        "\n",
        "For number of layers, I start with 4 layers, then increase it to 5. The result shows that 5 layers gives less loss and better accuracy. As I increase number of layers from 4 to 5, I decrease the step of dimensionality drop between consecutive layers. For example, I insert a layer between layers (28*28, 200) and (200, 100), so it becomes (28*28, 200), (200, 150), and (150, 100). \n",
        "\n",
        "**B**: Parameters Network used\n",
        "\n",
        "* 5 Layers\n",
        "* From the first layer to the output layer, each contains 200, 150, 100, 50, and 10 neurons\n",
        "* ReLu for activation function, softmax for the output layer\n",
        "* Learning rate: 0.0002\n",
        "* Epochs number: 10\n",
        "* Train batch size: 64, test: 64*4\n",
        "\n",
        "**C**: The best accuracy achieved is 97\\%"
      ]
    }
  ],
  "metadata": {
    "colab": {
      "collapsed_sections": [
        "EM6GQLv6j5uH"
      ],
      "name": "Lab 2-PyTorch Basics.ipynb",
      "provenance": []
    },
    "kernelspec": {
      "display_name": "Python 3",
      "name": "python3"
    },
    "language_info": {
      "codemirror_mode": {
        "name": "ipython",
        "version": 3
      },
      "file_extension": ".py",
      "mimetype": "text/x-python",
      "name": "python",
      "nbconvert_exporter": "python",
      "pygments_lexer": "ipython3",
      "version": "3.8.8"
    }
  },
  "nbformat": 4,
  "nbformat_minor": 0
}

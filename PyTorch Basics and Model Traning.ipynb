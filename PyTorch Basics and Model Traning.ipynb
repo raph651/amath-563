{
 "cells": [
  {
   "cell_type": "markdown",
   "metadata": {},
   "source": [
    "## Outline \n",
    "\n",
    "* Neural Net Traning Workflow\n",
    "\n",
    "* PyTorch Data Type: Tensors\n",
    "\n",
    "* Graph Computation and Neural Net Models\n",
    "\n",
    "* Example: Iris Dataset Classification\n",
    "\n",
    "* Assignment: MNIST Classification"
   ]
  },
  {
   "cell_type": "markdown",
   "metadata": {},
   "source": [
    "### Part 1: Neural Net Training Workflow\n",
    "1. Prepare Data\n",
    "    * Define batch size\n",
    "    * Split train/val/test sets\n",
    "    * Migrate to Tensors\n",
    "    * Additional pre-processing (normalization, one hot encoding, etc.)\n",
    "\n",
    "    One hot encoding: Transforms categorical data into one hot vectors. 1 in the index representing the class, 0 in all other indices. \n",
    "    \n",
    "    Use *torch.nn.functional.one_hot()* \n",
    "\n",
    "\n",
    "2. Select Hyperparameter\n",
    "    \n",
    "    * Network size and type\n",
    "    * Learning Rate\n",
    "    * Regularizers and strength\n",
    "    * Loss function and optimizer\n",
    "    * Other hyperparameters\n",
    "\n",
    "\n",
    "$\\\\ $ \n",
    "\n",
    "3. Define Model \n",
    "    * Network type\n",
    "    * Network parameters/layers\n",
    "    * Output values(s) and dimensions\n",
    "    * Forward() Function\n",
    "\n",
    "$\\\\ $\n",
    "\n",
    "4. Identiify Tracked Values\n",
    "\n",
    "    * Traning Loss\n",
    "    * Validation Loss\n",
    "    * Other relevant values\n",
    "\n",
    "5. Train and Validate Model\n",
    "\n",
    "    * Train Model: \n",
    "        * Calculate loss on training set\n",
    "        * Backpropagation gradients\n",
    "        * Update weights\n",
    "    * Validate Model:\n",
    "        * Calculate error on validation or test set\n",
    "        * Do not update weights\n",
    "    * Save losses in placeholders\n",
    "\n",
    "$\\\\ $\n",
    "\n",
    "\n",
    "6. Visulization and Evaluation\n",
    "    * Visualize Traning Progress: Convergence, over or under fitting\n",
    "    * Evaluate model: Confusion matrix, generate samples, identify model weakness\n",
    "\n",
    "\n"
   ]
  },
  {
   "cell_type": "markdown",
   "metadata": {},
   "source": [
    "### Part 2: Tensors\n",
    "\n",
    "* Main data structure for PyTorch\n",
    "* Like numpy arrays, but optimized for machine learning \n",
    "    * Can be migrated to or stored on GPUs\n",
    "    * Optimized for automatic differentiation\n",
    "* Three main attributes:\n",
    "    * Shape - size of each dimension\n",
    "    * Datatype - form of each entry (float, int, etc.)\n",
    "    * Device - cpu or cuda (gpu)\n",
    "\n",
    "**Tensor Initialization**\n",
    "\n",
    "Can create tensor from existing data: *torch.Tensor([[1,2],[3,4]])*, *torch.Tensor(np_array)*\n",
    "\n",
    "Can generate tensor with random or fixed values: *torch.ones(shape)*, *torch.rand(shape)*\n",
    "\n",
    "**Tensor Operations**\n",
    "\n",
    "<img src=\"images/2_3.png\" width =\"500\" height=\"300\" alt=\"centered image\" />\n"
   ]
  },
  {
   "cell_type": "markdown",
   "metadata": {},
   "source": [
    "### Part 3: Graph Computation and Neural Net Models\n",
    "\n",
    "**Bass Class**: nn.Module\n",
    "\n",
    "**Two primary features of base class**: Parameters, Forward function\n",
    "\n",
    "**Common PyTorch Layers**:\n",
    "* Linear\n",
    "* Activation Functions (ReLU, tanj, etc.)\n",
    "* Dropout\n",
    "* RNN\n",
    "* Convolution\n",
    "\n",
    "**Neural Network Models**\n",
    "\n",
    "<img src=\"images/2_4.png\" width =\"700\" height=\"400\" alt=\"centered image\" />\n"
   ]
  },
  {
   "cell_type": "code",
   "execution_count": null,
   "metadata": {
    "vscode": {
     "languageId": "plaintext"
    }
   },
   "outputs": [],
   "source": []
  },
  {
   "cell_type": "code",
   "execution_count": null,
   "metadata": {
    "vscode": {
     "languageId": "plaintext"
    }
   },
   "outputs": [],
   "source": []
  },
  {
   "cell_type": "markdown",
   "metadata": {},
   "source": []
  }
 ],
 "metadata": {
  "language_info": {
   "name": "python"
  },
  "orig_nbformat": 4
 },
 "nbformat": 4,
 "nbformat_minor": 2
}

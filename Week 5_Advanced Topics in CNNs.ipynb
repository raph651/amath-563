{
 "cells": [
  {
   "cell_type": "markdown",
   "metadata": {},
   "source": [
    "## More Layers: Residual Block\n",
    "### \"Skip connection/shortcut\" (ResNet)\n",
    "\n",
    "$a^{[l]}= g(z^{[l]}) $\n",
    "\n",
    "\n",
    "$a^{[l+2]}= g(z^{[l+2]}) \\;\\to\\; a^{[l+2]}=g(z^{[l+2]+a^{[l]}}) $ \n",
    "\n",
    "\n",
    "<div class=\"verticalhorizontal\">\n",
    "    <img src=\"images/5_1.png\" width =\"450\" height=\"250\" alt=\"centered image\" />\n",
    "</div>\n",
    "\n",
    "**Motivation/Explanation**\n",
    "\\begin{align*}\n",
    "a^{[l+2]} &= g(z^{[l+2]}+a^{[l]}) \\\\\n",
    "&=g(W^{[l+2]}a^{[l+1]} +b^{[l+2]} + a^{[l]})\n",
    "\n",
    "\\end{align*}\n",
    "\n",
    "For $W^{[l+2]}\\approx 0,\\; \\; b^{[l+2]}\\approx 0 $, $\\;a^{[l+2]}=g(a^{[l]}) $. Thus, it introduces stability in this system. At least, the model makes output in each layer continues moving forward, rather than shrinking to 0. Also, increasing layers is not likely to increase errors.\n",
    "\n",
    "Important thing is make sure that **dim** $a^{[l+2]} =$ **dim** $a^{[l]} $ \n",
    "\n",
    "\n",
    "**Alternative Explanation**\n",
    "\n",
    "\\begin{align*}\n",
    "z^{[l+2]}&= W^{[l+2]}a^{[l+1]}+b^{[l+2]}\\\\\n",
    "&=W^{[l+2]}g(W^{[l+1]}a^{[l]}+b^{[l+1]})+b^{[l+2]}\\\\\n",
    "&=F(a^{[l]})\n",
    "\n",
    "\\end{align*}\n",
    "\n",
    "$a^{[l+2]}=a^{[l]} +F(a^{[l]}) $, iterative integration method"
   ]
  },
  {
   "cell_type": "markdown",
   "metadata": {},
   "source": [
    "## More Layers: Bottleneck Layer \n",
    "\n",
    "Suppose a convolution from 28 x 28 x 192 $\\to$ 28 x 28 x 32 by a Conv 5 x 5 x 192 filter. The operation is about 28 x 28 x 32 x 5 x 5 x 192 = 120M. The bottleneck layer introduces an intermidiate layer 28 x 28 x 16 with Conv 1 x 1 filters. The first part of operation is about 28 x 28 x 16 x 192 = 2.4M, the second is 28 x 28 x 32 x 5 x 5 x 16 = 10M. \n",
    "\n",
    "**Inception Network**\n",
    "\n",
    "Through bottleneck method, having multiple operations at the same layer.  1x1 Conv\n",
    "\n",
    "<div class=\"verticalhorizontal\">\n",
    "    <img src=\"images/5_2.png\" width =\"450\" height=\"325\" alt=\"centered image\" />\n",
    "</div>\n",
    "\n",
    "## Computer Vision Problems and Networks Setup\n",
    "\n",
    "* Object Classification \n",
    "* Object Localization\n",
    "* Object Detection\n",
    "\n",
    "\n",
    "### FCONV (convolutional sliding windows)\n",
    "OverFeat\n",
    "\n",
    "For example, 14 x 14 x 3 -CONV 5x5-> 10 x 10 x 16 -MPOOL 2x2-> 5 x 5 x 16 -FCONV 5x5-> 1 x 1 x 400 -FCONV-> 1 x 1 x 4\n",
    "\n",
    "### YOLO (You Only Look Once)\n",
    "Detection: Classification with Grids \n",
    "\n",
    "### Intersection Over Union (IoU)\n",
    "$$\\text{IoU} = A_1 \\cap A_2 / (A_1 \\cup A_2) \\ge 0.5$$\n",
    "\n",
    "### Non-max Suppression\n",
    "* Discard all boxes with pc < pthresh (0.6)\n",
    "* While boxes remained: pick the box with largest pc, discard any box with IoU > Itresh\n",
    "\n",
    "\n",
    " \n"
   ]
  },
  {
   "cell_type": "markdown",
   "metadata": {},
   "source": [
    "## Neural Style Transfer\n",
    "\n",
    "<div class=\"verticalhorizontal\">\n",
    "    <img src=\"images/5_3.png\" width =\"400\" height=\"300\" alt=\"centered image\" />\n",
    "</div>\n",
    "\n",
    "* Define a cost function with two components \n",
    "\n",
    "    $J(G)=\\alpha Jc(C,G) +\\beta Js(S,G) = $ content + style losses\n",
    "* Algorithm:\n",
    "    1. Initiate G randomly = (100, 100, 3)\n",
    "    2. Use GD to minimize J(G)\n",
    "* Content Loss:\n",
    "    - Use pretrained object classification/recognition Network (VGG)\n",
    "    - How similar the activations of C and G when they propagate through layer I?\n",
    "    $Jc(C,G) =\\frac{1}{2}||a^{[l](C)}-a^{[l](G)}||_2 $\n",
    "\n",
    "* Style Loss:\n",
    "    - \"style\": how consistene are activations across channels?\n",
    "    - Define **pairwise correlation** between activations: how often texture components occur together\n",
    "    \n",
    "    $\\displaystyle G^{[l](G)}_{kk'} = \\sum_{i=1}^{n^{[l]}_H}\\sum_{j=1}^{n^{[l]}_W}a^{[l](G)}_{ijk}a^{[l](G)}_{ijk'} $\n",
    "\n",
    "    $\\displaystyle G^{[l](S)}_{kk'} = \\sum_{i=1}^{n^{[l]}_H}\\sum_{j=1}^{n^{[l]}_W}a^{[l](S)}_{ijk}a^{[l](S)}_{ijk'} $\n",
    "\n",
    "    $\\displaystyle Js^{[l]}(S,G)=\\frac{1}{(n^{[l]}_Hn^{[l]}_Wn^{[l]}_c)^2}||G^{[l](S)}_{kk'}-G^{[l](G)}_{kk'}||_F $\n",
    "\n",
    "    $$Js(S,G) =\\sum_l \\lambda^{[l]}Js^{[l]}(S,G) $$\n",
    "\n"
   ]
  },
  {
   "cell_type": "markdown",
   "metadata": {},
   "source": [
    "## Summary \n",
    "* Conv, Pool Fundamental Operations\n",
    "\n",
    "* Extensions\n",
    "   - Skip Connections, Residual\n",
    "   - BConv, Inception\n",
    "   - FConv\n"
   ]
  }
 ],
 "metadata": {
  "interpreter": {
   "hash": "42bb6a2c1686de5e1e448fe975e26b056eae8a02500337bf312c2103fe0e4268"
  },
  "kernelspec": {
   "display_name": "Python 3 (ipykernel)",
   "language": "python",
   "name": "python3"
  },
  "language_info": {
   "codemirror_mode": {
    "name": "ipython",
    "version": 3
   },
   "file_extension": ".py",
   "mimetype": "text/x-python",
   "name": "python",
   "nbconvert_exporter": "python",
   "pygments_lexer": "ipython3",
   "version": "3.8.8"
  },
  "latex_envs": {
   "LaTeX_envs_menu_present": true,
   "autoclose": true,
   "autocomplete": false,
   "bibliofile": "biblio.bib",
   "cite_by": "apalike",
   "current_citInitial": 1,
   "eqLabelWithNumbers": false,
   "eqNumInitial": 1,
   "hotkeys": {
    "equation": "Ctrl-E",
    "itemize": "Ctrl-I"
   },
   "labels_anchors": false,
   "latex_user_defs": false,
   "report_style_numbering": false,
   "user_envs_cfg": false
  },
  "toc": {
   "base_numbering": 1,
   "nav_menu": {},
   "number_sections": true,
   "sideBar": true,
   "skip_h1_title": false,
   "title_cell": "Table of Contents",
   "title_sidebar": "Contents",
   "toc_cell": false,
   "toc_position": {},
   "toc_section_display": true,
   "toc_window_display": false
  },
  "varInspector": {
   "cols": {
    "lenName": 16,
    "lenType": 16,
    "lenVar": 40
   },
   "kernels_config": {
    "python": {
     "delete_cmd_postfix": "",
     "delete_cmd_prefix": "del ",
     "library": "var_list.py",
     "varRefreshCmd": "print(var_dic_list())"
    },
    "r": {
     "delete_cmd_postfix": ") ",
     "delete_cmd_prefix": "rm(",
     "library": "var_list.r",
     "varRefreshCmd": "cat(var_dic_list()) "
    }
   },
   "types_to_exclude": [
    "module",
    "function",
    "builtin_function_or_method",
    "instance",
    "_Feature"
   ],
   "window_display": false
  }
 },
 "nbformat": 4,
 "nbformat_minor": 2
}
